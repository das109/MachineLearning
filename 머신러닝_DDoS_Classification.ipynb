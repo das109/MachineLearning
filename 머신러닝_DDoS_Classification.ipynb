{
  "nbformat": 4,
  "nbformat_minor": 0,
  "metadata": {
    "colab": {
      "name": "머신러닝_DDoS_Classification.ipynb",
      "provenance": [],
      "collapsed_sections": [],
      "toc_visible": true
    },
    "kernelspec": {
      "name": "python3",
      "display_name": "Python 3"
    },
    "language_info": {
      "name": "python"
    }
  },
  "cells": [
    {
      "cell_type": "code",
      "metadata": {
        "id": "JDn9piyC5USq"
      },
      "source": [
        "import sklearn\n",
        "import numpy as np\n",
        "import pandas as pd\n",
        "import matplotlib.pyplot as plt\n",
        "from io import StringIO\n",
        "import warnings\n",
        "warnings.filterwarnings('ignore')"
      ],
      "execution_count": null,
      "outputs": []
    },
    {
      "cell_type": "code",
      "metadata": {
        "colab": {
          "base_uri": "https://localhost:8080/"
        },
        "id": "U8PozNK55bFq",
        "outputId": "0367a599-d84a-46a9-b699-2f849f92ed7d"
      },
      "source": [
        "from google.colab import drive\n",
        "drive.mount('/content/drive')"
      ],
      "execution_count": null,
      "outputs": [
        {
          "output_type": "stream",
          "text": [
            "Mounted at /content/drive\n"
          ],
          "name": "stdout"
        }
      ]
    },
    {
      "cell_type": "code",
      "metadata": {
        "id": "YIzVPkBM5kjJ"
      },
      "source": [
        "df = '/content/drive/MyDrive/df.csv'\n",
        "df = pd.read_csv(df)"
      ],
      "execution_count": null,
      "outputs": []
    },
    {
      "cell_type": "code",
      "metadata": {
        "id": "zyNDxAHe5v28"
      },
      "source": [
        "df=df.drop(' Bwd PSH Flags',axis=1)\n",
        "df=df.drop(' Fwd URG Flags',axis=1)\n",
        "df=df.drop(' Bwd URG Flags',axis=1)\n",
        "df=df.drop('FIN Flag Count',axis=1)\n",
        "df=df.drop(' PSH Flag Count',axis=1)\n",
        "df=df.drop(' ECE Flag Count',axis=1)\n",
        "df=df.drop('Fwd Avg Bytes/Bulk',axis=1)\n",
        "df=df.drop(' Fwd Avg Packets/Bulk',axis=1)\n",
        "df=df.drop(' Fwd Avg Bulk Rate',axis=1)\n",
        "df=df.drop(' Bwd Avg Bytes/Bulk',axis=1)\n",
        "df=df.drop(' Bwd Avg Packets/Bulk',axis=1)\n",
        "df=df.drop('Bwd Avg Bulk Rate',axis=1)\n",
        "df=df.drop('Unnamed: 0',axis=1)\n",
        "df=df.drop('Unnamed: 0.1',axis=1)\n",
        "df=df.drop('SimillarHTTP', axis=1)\n",
        "df=df.drop('Flow ID', axis=1)\n",
        "df=df.drop('Unnamed: 0.1.1.1', axis=1)\n",
        "df=df.drop(' Timestamp', axis=1)\n",
        "df=df.drop(' Destination IP', axis=1)\n",
        "df=df.drop(' Source IP', axis=1)\n",
        "df=df.drop(' Source Port', axis=1)\n",
        "df=df.drop(' Destination Port', axis=1)\n",
        "df=df.drop(' Protocol', axis=1)"
      ],
      "execution_count": null,
      "outputs": []
    },
    {
      "cell_type": "code",
      "metadata": {
        "id": "ExBbugdxD-Me"
      },
      "source": [
        "df_save = df.copy()"
      ],
      "execution_count": null,
      "outputs": []
    },
    {
      "cell_type": "code",
      "metadata": {
        "colab": {
          "base_uri": "https://localhost:8080/"
        },
        "id": "MHuc_VFd7Lnp",
        "outputId": "ef56d110-8a17-45b5-d094-f25f777b06df"
      },
      "source": [
        "df = df.rename(columns={\" Label\": \"Label\"})\n",
        "df.Label.unique()"
      ],
      "execution_count": null,
      "outputs": [
        {
          "output_type": "execute_result",
          "data": {
            "text/plain": [
              "array(['Syn', 'BENIGN', 'UDP', 'UDPLag'], dtype=object)"
            ]
          },
          "metadata": {
            "tags": []
          },
          "execution_count": 6
        }
      ]
    },
    {
      "cell_type": "code",
      "metadata": {
        "id": "VDGb5RmI70De"
      },
      "source": [
        "df['Label'] = df['Label'].replace('BENIGN', 0)\n",
        "df['Label'] = df['Label'].replace('Syn', 1)\n",
        "df['Label'] = df['Label'].replace('UDP', 2)\n",
        "df['Label'] = df['Label'].replace('UDPLag', 3)"
      ],
      "execution_count": null,
      "outputs": []
    },
    {
      "cell_type": "code",
      "metadata": {
        "colab": {
          "base_uri": "https://localhost:8080/",
          "height": 266
        },
        "id": "pPpKuERu79VM",
        "outputId": "609137da-bba6-4890-dcb7-2afde1d70641"
      },
      "source": [
        "df.head()"
      ],
      "execution_count": null,
      "outputs": [
        {
          "output_type": "execute_result",
          "data": {
            "text/html": [
              "<div>\n",
              "<style scoped>\n",
              "    .dataframe tbody tr th:only-of-type {\n",
              "        vertical-align: middle;\n",
              "    }\n",
              "\n",
              "    .dataframe tbody tr th {\n",
              "        vertical-align: top;\n",
              "    }\n",
              "\n",
              "    .dataframe thead th {\n",
              "        text-align: right;\n",
              "    }\n",
              "</style>\n",
              "<table border=\"1\" class=\"dataframe\">\n",
              "  <thead>\n",
              "    <tr style=\"text-align: right;\">\n",
              "      <th></th>\n",
              "      <th>Unnamed: 0.1.1</th>\n",
              "      <th>Flow Duration</th>\n",
              "      <th>Total Fwd Packets</th>\n",
              "      <th>Total Backward Packets</th>\n",
              "      <th>Total Length of Fwd Packets</th>\n",
              "      <th>Total Length of Bwd Packets</th>\n",
              "      <th>Fwd Packet Length Max</th>\n",
              "      <th>Fwd Packet Length Min</th>\n",
              "      <th>Fwd Packet Length Mean</th>\n",
              "      <th>Fwd Packet Length Std</th>\n",
              "      <th>Bwd Packet Length Max</th>\n",
              "      <th>Bwd Packet Length Min</th>\n",
              "      <th>Bwd Packet Length Mean</th>\n",
              "      <th>Bwd Packet Length Std</th>\n",
              "      <th>Flow Bytes/s</th>\n",
              "      <th>Flow Packets/s</th>\n",
              "      <th>Flow IAT Mean</th>\n",
              "      <th>Flow IAT Std</th>\n",
              "      <th>Flow IAT Max</th>\n",
              "      <th>Flow IAT Min</th>\n",
              "      <th>Fwd IAT Total</th>\n",
              "      <th>Fwd IAT Mean</th>\n",
              "      <th>Fwd IAT Std</th>\n",
              "      <th>Fwd IAT Max</th>\n",
              "      <th>Fwd IAT Min</th>\n",
              "      <th>Bwd IAT Total</th>\n",
              "      <th>Bwd IAT Mean</th>\n",
              "      <th>Bwd IAT Std</th>\n",
              "      <th>Bwd IAT Max</th>\n",
              "      <th>Bwd IAT Min</th>\n",
              "      <th>Fwd PSH Flags</th>\n",
              "      <th>Fwd Header Length</th>\n",
              "      <th>Bwd Header Length</th>\n",
              "      <th>Fwd Packets/s</th>\n",
              "      <th>Bwd Packets/s</th>\n",
              "      <th>Min Packet Length</th>\n",
              "      <th>Max Packet Length</th>\n",
              "      <th>Packet Length Mean</th>\n",
              "      <th>Packet Length Std</th>\n",
              "      <th>Packet Length Variance</th>\n",
              "      <th>SYN Flag Count</th>\n",
              "      <th>RST Flag Count</th>\n",
              "      <th>ACK Flag Count</th>\n",
              "      <th>URG Flag Count</th>\n",
              "      <th>CWE Flag Count</th>\n",
              "      <th>Down/Up Ratio</th>\n",
              "      <th>Average Packet Size</th>\n",
              "      <th>Avg Fwd Segment Size</th>\n",
              "      <th>Avg Bwd Segment Size</th>\n",
              "      <th>Fwd Header Length.1</th>\n",
              "      <th>Subflow Fwd Packets</th>\n",
              "      <th>Subflow Fwd Bytes</th>\n",
              "      <th>Subflow Bwd Packets</th>\n",
              "      <th>Subflow Bwd Bytes</th>\n",
              "      <th>Init_Win_bytes_forward</th>\n",
              "      <th>Init_Win_bytes_backward</th>\n",
              "      <th>act_data_pkt_fwd</th>\n",
              "      <th>min_seg_size_forward</th>\n",
              "      <th>Active Mean</th>\n",
              "      <th>Active Std</th>\n",
              "      <th>Active Max</th>\n",
              "      <th>Active Min</th>\n",
              "      <th>Idle Mean</th>\n",
              "      <th>Idle Std</th>\n",
              "      <th>Idle Max</th>\n",
              "      <th>Idle Min</th>\n",
              "      <th>Inbound</th>\n",
              "      <th>Label</th>\n",
              "    </tr>\n",
              "  </thead>\n",
              "  <tbody>\n",
              "    <tr>\n",
              "      <th>0</th>\n",
              "      <td>445444</td>\n",
              "      <td>36063894</td>\n",
              "      <td>7</td>\n",
              "      <td>2</td>\n",
              "      <td>42.0</td>\n",
              "      <td>12.0</td>\n",
              "      <td>6.0</td>\n",
              "      <td>6.0</td>\n",
              "      <td>6.0</td>\n",
              "      <td>0.0</td>\n",
              "      <td>6.0</td>\n",
              "      <td>6.0</td>\n",
              "      <td>6.0</td>\n",
              "      <td>0.0</td>\n",
              "      <td>1.497342e+00</td>\n",
              "      <td>2.495571e-01</td>\n",
              "      <td>4.507987e+06</td>\n",
              "      <td>7.062714e+06</td>\n",
              "      <td>18628035.0</td>\n",
              "      <td>1.0</td>\n",
              "      <td>36063894.0</td>\n",
              "      <td>6.010649e+06</td>\n",
              "      <td>7.680923e+06</td>\n",
              "      <td>18628035.0</td>\n",
              "      <td>1.0</td>\n",
              "      <td>2.0</td>\n",
              "      <td>2.000000e+00</td>\n",
              "      <td>0.000000e+00</td>\n",
              "      <td>2.0</td>\n",
              "      <td>2.0</td>\n",
              "      <td>0</td>\n",
              "      <td>140</td>\n",
              "      <td>40</td>\n",
              "      <td>1.940999e-01</td>\n",
              "      <td>0.055457</td>\n",
              "      <td>6.0</td>\n",
              "      <td>6.0</td>\n",
              "      <td>6.0</td>\n",
              "      <td>0.0</td>\n",
              "      <td>0.0</td>\n",
              "      <td>0</td>\n",
              "      <td>0</td>\n",
              "      <td>1</td>\n",
              "      <td>0</td>\n",
              "      <td>0</td>\n",
              "      <td>0.0</td>\n",
              "      <td>6.666667</td>\n",
              "      <td>6.0</td>\n",
              "      <td>6.0</td>\n",
              "      <td>140</td>\n",
              "      <td>7</td>\n",
              "      <td>42</td>\n",
              "      <td>2</td>\n",
              "      <td>12</td>\n",
              "      <td>5840</td>\n",
              "      <td>0</td>\n",
              "      <td>6</td>\n",
              "      <td>20</td>\n",
              "      <td>18.0</td>\n",
              "      <td>29.444864</td>\n",
              "      <td>52.0</td>\n",
              "      <td>1.0</td>\n",
              "      <td>1.202128e+07</td>\n",
              "      <td>6.253623e+06</td>\n",
              "      <td>18628035.0</td>\n",
              "      <td>6193840.0</td>\n",
              "      <td>1</td>\n",
              "      <td>1</td>\n",
              "    </tr>\n",
              "    <tr>\n",
              "      <th>1</th>\n",
              "      <td>113842</td>\n",
              "      <td>44851366</td>\n",
              "      <td>8</td>\n",
              "      <td>4</td>\n",
              "      <td>48.0</td>\n",
              "      <td>24.0</td>\n",
              "      <td>6.0</td>\n",
              "      <td>6.0</td>\n",
              "      <td>6.0</td>\n",
              "      <td>0.0</td>\n",
              "      <td>6.0</td>\n",
              "      <td>6.0</td>\n",
              "      <td>6.0</td>\n",
              "      <td>0.0</td>\n",
              "      <td>1.605302e+00</td>\n",
              "      <td>2.675504e-01</td>\n",
              "      <td>4.077397e+06</td>\n",
              "      <td>9.056967e+06</td>\n",
              "      <td>28934293.0</td>\n",
              "      <td>1.0</td>\n",
              "      <td>44851314.0</td>\n",
              "      <td>6.407331e+06</td>\n",
              "      <td>1.092235e+07</td>\n",
              "      <td>28934293.0</td>\n",
              "      <td>1.0</td>\n",
              "      <td>3525902.0</td>\n",
              "      <td>1.175301e+06</td>\n",
              "      <td>2.035679e+06</td>\n",
              "      <td>3525900.0</td>\n",
              "      <td>1.0</td>\n",
              "      <td>0</td>\n",
              "      <td>160</td>\n",
              "      <td>80</td>\n",
              "      <td>1.783669e-01</td>\n",
              "      <td>0.089183</td>\n",
              "      <td>6.0</td>\n",
              "      <td>6.0</td>\n",
              "      <td>6.0</td>\n",
              "      <td>0.0</td>\n",
              "      <td>0.0</td>\n",
              "      <td>0</td>\n",
              "      <td>0</td>\n",
              "      <td>1</td>\n",
              "      <td>0</td>\n",
              "      <td>0</td>\n",
              "      <td>0.0</td>\n",
              "      <td>6.500000</td>\n",
              "      <td>6.0</td>\n",
              "      <td>6.0</td>\n",
              "      <td>160</td>\n",
              "      <td>8</td>\n",
              "      <td>48</td>\n",
              "      <td>4</td>\n",
              "      <td>24</td>\n",
              "      <td>5840</td>\n",
              "      <td>0</td>\n",
              "      <td>7</td>\n",
              "      <td>20</td>\n",
              "      <td>1.0</td>\n",
              "      <td>0.000000</td>\n",
              "      <td>1.0</td>\n",
              "      <td>1.0</td>\n",
              "      <td>2.066268e+07</td>\n",
              "      <td>1.169783e+07</td>\n",
              "      <td>28934293.0</td>\n",
              "      <td>12391060.0</td>\n",
              "      <td>1</td>\n",
              "      <td>1</td>\n",
              "    </tr>\n",
              "    <tr>\n",
              "      <th>2</th>\n",
              "      <td>176377</td>\n",
              "      <td>1</td>\n",
              "      <td>2</td>\n",
              "      <td>0</td>\n",
              "      <td>12.0</td>\n",
              "      <td>0.0</td>\n",
              "      <td>6.0</td>\n",
              "      <td>6.0</td>\n",
              "      <td>6.0</td>\n",
              "      <td>0.0</td>\n",
              "      <td>0.0</td>\n",
              "      <td>0.0</td>\n",
              "      <td>0.0</td>\n",
              "      <td>0.0</td>\n",
              "      <td>1.200000e+07</td>\n",
              "      <td>2.000000e+06</td>\n",
              "      <td>1.000000e+00</td>\n",
              "      <td>0.000000e+00</td>\n",
              "      <td>1.0</td>\n",
              "      <td>1.0</td>\n",
              "      <td>1.0</td>\n",
              "      <td>1.000000e+00</td>\n",
              "      <td>0.000000e+00</td>\n",
              "      <td>1.0</td>\n",
              "      <td>1.0</td>\n",
              "      <td>0.0</td>\n",
              "      <td>0.000000e+00</td>\n",
              "      <td>0.000000e+00</td>\n",
              "      <td>0.0</td>\n",
              "      <td>0.0</td>\n",
              "      <td>0</td>\n",
              "      <td>40</td>\n",
              "      <td>0</td>\n",
              "      <td>2.000000e+06</td>\n",
              "      <td>0.000000</td>\n",
              "      <td>6.0</td>\n",
              "      <td>6.0</td>\n",
              "      <td>6.0</td>\n",
              "      <td>0.0</td>\n",
              "      <td>0.0</td>\n",
              "      <td>1</td>\n",
              "      <td>0</td>\n",
              "      <td>0</td>\n",
              "      <td>1</td>\n",
              "      <td>0</td>\n",
              "      <td>0.0</td>\n",
              "      <td>9.000000</td>\n",
              "      <td>6.0</td>\n",
              "      <td>0.0</td>\n",
              "      <td>40</td>\n",
              "      <td>2</td>\n",
              "      <td>12</td>\n",
              "      <td>0</td>\n",
              "      <td>0</td>\n",
              "      <td>0</td>\n",
              "      <td>-1</td>\n",
              "      <td>1</td>\n",
              "      <td>20</td>\n",
              "      <td>0.0</td>\n",
              "      <td>0.000000</td>\n",
              "      <td>0.0</td>\n",
              "      <td>0.0</td>\n",
              "      <td>0.000000e+00</td>\n",
              "      <td>0.000000e+00</td>\n",
              "      <td>0.0</td>\n",
              "      <td>0.0</td>\n",
              "      <td>0</td>\n",
              "      <td>1</td>\n",
              "    </tr>\n",
              "    <tr>\n",
              "      <th>3</th>\n",
              "      <td>24777</td>\n",
              "      <td>0</td>\n",
              "      <td>2</td>\n",
              "      <td>0</td>\n",
              "      <td>12.0</td>\n",
              "      <td>0.0</td>\n",
              "      <td>6.0</td>\n",
              "      <td>6.0</td>\n",
              "      <td>6.0</td>\n",
              "      <td>0.0</td>\n",
              "      <td>0.0</td>\n",
              "      <td>0.0</td>\n",
              "      <td>0.0</td>\n",
              "      <td>0.0</td>\n",
              "      <td>inf</td>\n",
              "      <td>inf</td>\n",
              "      <td>0.000000e+00</td>\n",
              "      <td>0.000000e+00</td>\n",
              "      <td>0.0</td>\n",
              "      <td>0.0</td>\n",
              "      <td>0.0</td>\n",
              "      <td>0.000000e+00</td>\n",
              "      <td>0.000000e+00</td>\n",
              "      <td>0.0</td>\n",
              "      <td>0.0</td>\n",
              "      <td>0.0</td>\n",
              "      <td>0.000000e+00</td>\n",
              "      <td>0.000000e+00</td>\n",
              "      <td>0.0</td>\n",
              "      <td>0.0</td>\n",
              "      <td>0</td>\n",
              "      <td>40</td>\n",
              "      <td>0</td>\n",
              "      <td>0.000000e+00</td>\n",
              "      <td>0.000000</td>\n",
              "      <td>6.0</td>\n",
              "      <td>6.0</td>\n",
              "      <td>6.0</td>\n",
              "      <td>0.0</td>\n",
              "      <td>0.0</td>\n",
              "      <td>0</td>\n",
              "      <td>0</td>\n",
              "      <td>1</td>\n",
              "      <td>0</td>\n",
              "      <td>0</td>\n",
              "      <td>0.0</td>\n",
              "      <td>9.000000</td>\n",
              "      <td>6.0</td>\n",
              "      <td>0.0</td>\n",
              "      <td>40</td>\n",
              "      <td>2</td>\n",
              "      <td>12</td>\n",
              "      <td>0</td>\n",
              "      <td>0</td>\n",
              "      <td>5840</td>\n",
              "      <td>-1</td>\n",
              "      <td>1</td>\n",
              "      <td>20</td>\n",
              "      <td>0.0</td>\n",
              "      <td>0.000000</td>\n",
              "      <td>0.0</td>\n",
              "      <td>0.0</td>\n",
              "      <td>0.000000e+00</td>\n",
              "      <td>0.000000e+00</td>\n",
              "      <td>0.0</td>\n",
              "      <td>0.0</td>\n",
              "      <td>1</td>\n",
              "      <td>1</td>\n",
              "    </tr>\n",
              "    <tr>\n",
              "      <th>4</th>\n",
              "      <td>85100</td>\n",
              "      <td>35731470</td>\n",
              "      <td>8</td>\n",
              "      <td>2</td>\n",
              "      <td>48.0</td>\n",
              "      <td>12.0</td>\n",
              "      <td>6.0</td>\n",
              "      <td>6.0</td>\n",
              "      <td>6.0</td>\n",
              "      <td>0.0</td>\n",
              "      <td>6.0</td>\n",
              "      <td>6.0</td>\n",
              "      <td>6.0</td>\n",
              "      <td>0.0</td>\n",
              "      <td>1.679192e+00</td>\n",
              "      <td>2.798653e-01</td>\n",
              "      <td>3.970163e+06</td>\n",
              "      <td>6.026604e+06</td>\n",
              "      <td>13693985.0</td>\n",
              "      <td>0.0</td>\n",
              "      <td>35731470.0</td>\n",
              "      <td>5.104496e+06</td>\n",
              "      <td>6.455349e+06</td>\n",
              "      <td>13693985.0</td>\n",
              "      <td>0.0</td>\n",
              "      <td>1.0</td>\n",
              "      <td>1.000000e+00</td>\n",
              "      <td>0.000000e+00</td>\n",
              "      <td>1.0</td>\n",
              "      <td>1.0</td>\n",
              "      <td>0</td>\n",
              "      <td>160</td>\n",
              "      <td>40</td>\n",
              "      <td>2.238923e-01</td>\n",
              "      <td>0.055973</td>\n",
              "      <td>6.0</td>\n",
              "      <td>6.0</td>\n",
              "      <td>6.0</td>\n",
              "      <td>0.0</td>\n",
              "      <td>0.0</td>\n",
              "      <td>0</td>\n",
              "      <td>0</td>\n",
              "      <td>1</td>\n",
              "      <td>0</td>\n",
              "      <td>0</td>\n",
              "      <td>0.0</td>\n",
              "      <td>6.600000</td>\n",
              "      <td>6.0</td>\n",
              "      <td>6.0</td>\n",
              "      <td>160</td>\n",
              "      <td>8</td>\n",
              "      <td>48</td>\n",
              "      <td>2</td>\n",
              "      <td>12</td>\n",
              "      <td>5840</td>\n",
              "      <td>0</td>\n",
              "      <td>7</td>\n",
              "      <td>20</td>\n",
              "      <td>24.5</td>\n",
              "      <td>33.234019</td>\n",
              "      <td>48.0</td>\n",
              "      <td>1.0</td>\n",
              "      <td>1.191047e+07</td>\n",
              "      <td>1.849493e+06</td>\n",
              "      <td>13693985.0</td>\n",
              "      <td>10001398.0</td>\n",
              "      <td>1</td>\n",
              "      <td>1</td>\n",
              "    </tr>\n",
              "  </tbody>\n",
              "</table>\n",
              "</div>"
            ],
            "text/plain": [
              "   Unnamed: 0.1.1   Flow Duration  ...   Inbound  Label\n",
              "0          445444        36063894  ...         1      1\n",
              "1          113842        44851366  ...         1      1\n",
              "2          176377               1  ...         0      1\n",
              "3           24777               0  ...         1      1\n",
              "4           85100        35731470  ...         1      1\n",
              "\n",
              "[5 rows x 68 columns]"
            ]
          },
          "metadata": {
            "tags": []
          },
          "execution_count": 8
        }
      ]
    },
    {
      "cell_type": "code",
      "metadata": {
        "colab": {
          "base_uri": "https://localhost:8080/",
          "height": 266
        },
        "id": "fqDFGKMAMP_6",
        "outputId": "94c13b7b-606b-44a0-c577-2fd98e9f045e"
      },
      "source": [
        "df_save.head()"
      ],
      "execution_count": null,
      "outputs": [
        {
          "output_type": "execute_result",
          "data": {
            "text/html": [
              "<div>\n",
              "<style scoped>\n",
              "    .dataframe tbody tr th:only-of-type {\n",
              "        vertical-align: middle;\n",
              "    }\n",
              "\n",
              "    .dataframe tbody tr th {\n",
              "        vertical-align: top;\n",
              "    }\n",
              "\n",
              "    .dataframe thead th {\n",
              "        text-align: right;\n",
              "    }\n",
              "</style>\n",
              "<table border=\"1\" class=\"dataframe\">\n",
              "  <thead>\n",
              "    <tr style=\"text-align: right;\">\n",
              "      <th></th>\n",
              "      <th>Unnamed: 0.1.1</th>\n",
              "      <th>Flow Duration</th>\n",
              "      <th>Total Fwd Packets</th>\n",
              "      <th>Total Backward Packets</th>\n",
              "      <th>Total Length of Fwd Packets</th>\n",
              "      <th>Total Length of Bwd Packets</th>\n",
              "      <th>Fwd Packet Length Max</th>\n",
              "      <th>Fwd Packet Length Min</th>\n",
              "      <th>Fwd Packet Length Mean</th>\n",
              "      <th>Fwd Packet Length Std</th>\n",
              "      <th>Bwd Packet Length Max</th>\n",
              "      <th>Bwd Packet Length Min</th>\n",
              "      <th>Bwd Packet Length Mean</th>\n",
              "      <th>Bwd Packet Length Std</th>\n",
              "      <th>Flow Bytes/s</th>\n",
              "      <th>Flow Packets/s</th>\n",
              "      <th>Flow IAT Mean</th>\n",
              "      <th>Flow IAT Std</th>\n",
              "      <th>Flow IAT Max</th>\n",
              "      <th>Flow IAT Min</th>\n",
              "      <th>Fwd IAT Total</th>\n",
              "      <th>Fwd IAT Mean</th>\n",
              "      <th>Fwd IAT Std</th>\n",
              "      <th>Fwd IAT Max</th>\n",
              "      <th>Fwd IAT Min</th>\n",
              "      <th>Bwd IAT Total</th>\n",
              "      <th>Bwd IAT Mean</th>\n",
              "      <th>Bwd IAT Std</th>\n",
              "      <th>Bwd IAT Max</th>\n",
              "      <th>Bwd IAT Min</th>\n",
              "      <th>Fwd PSH Flags</th>\n",
              "      <th>Fwd Header Length</th>\n",
              "      <th>Bwd Header Length</th>\n",
              "      <th>Fwd Packets/s</th>\n",
              "      <th>Bwd Packets/s</th>\n",
              "      <th>Min Packet Length</th>\n",
              "      <th>Max Packet Length</th>\n",
              "      <th>Packet Length Mean</th>\n",
              "      <th>Packet Length Std</th>\n",
              "      <th>Packet Length Variance</th>\n",
              "      <th>SYN Flag Count</th>\n",
              "      <th>RST Flag Count</th>\n",
              "      <th>ACK Flag Count</th>\n",
              "      <th>URG Flag Count</th>\n",
              "      <th>CWE Flag Count</th>\n",
              "      <th>Down/Up Ratio</th>\n",
              "      <th>Average Packet Size</th>\n",
              "      <th>Avg Fwd Segment Size</th>\n",
              "      <th>Avg Bwd Segment Size</th>\n",
              "      <th>Fwd Header Length.1</th>\n",
              "      <th>Subflow Fwd Packets</th>\n",
              "      <th>Subflow Fwd Bytes</th>\n",
              "      <th>Subflow Bwd Packets</th>\n",
              "      <th>Subflow Bwd Bytes</th>\n",
              "      <th>Init_Win_bytes_forward</th>\n",
              "      <th>Init_Win_bytes_backward</th>\n",
              "      <th>act_data_pkt_fwd</th>\n",
              "      <th>min_seg_size_forward</th>\n",
              "      <th>Active Mean</th>\n",
              "      <th>Active Std</th>\n",
              "      <th>Active Max</th>\n",
              "      <th>Active Min</th>\n",
              "      <th>Idle Mean</th>\n",
              "      <th>Idle Std</th>\n",
              "      <th>Idle Max</th>\n",
              "      <th>Idle Min</th>\n",
              "      <th>Inbound</th>\n",
              "      <th>Label</th>\n",
              "    </tr>\n",
              "  </thead>\n",
              "  <tbody>\n",
              "    <tr>\n",
              "      <th>0</th>\n",
              "      <td>445444</td>\n",
              "      <td>36063894</td>\n",
              "      <td>7</td>\n",
              "      <td>2</td>\n",
              "      <td>42.0</td>\n",
              "      <td>12.0</td>\n",
              "      <td>6.0</td>\n",
              "      <td>6.0</td>\n",
              "      <td>6.0</td>\n",
              "      <td>0.0</td>\n",
              "      <td>6.0</td>\n",
              "      <td>6.0</td>\n",
              "      <td>6.0</td>\n",
              "      <td>0.0</td>\n",
              "      <td>1.497342e+00</td>\n",
              "      <td>2.495571e-01</td>\n",
              "      <td>4.507987e+06</td>\n",
              "      <td>7.062714e+06</td>\n",
              "      <td>18628035.0</td>\n",
              "      <td>1.0</td>\n",
              "      <td>36063894.0</td>\n",
              "      <td>6.010649e+06</td>\n",
              "      <td>7.680923e+06</td>\n",
              "      <td>18628035.0</td>\n",
              "      <td>1.0</td>\n",
              "      <td>2.0</td>\n",
              "      <td>2.000000e+00</td>\n",
              "      <td>0.000000e+00</td>\n",
              "      <td>2.0</td>\n",
              "      <td>2.0</td>\n",
              "      <td>0</td>\n",
              "      <td>140</td>\n",
              "      <td>40</td>\n",
              "      <td>1.940999e-01</td>\n",
              "      <td>0.055457</td>\n",
              "      <td>6.0</td>\n",
              "      <td>6.0</td>\n",
              "      <td>6.0</td>\n",
              "      <td>0.0</td>\n",
              "      <td>0.0</td>\n",
              "      <td>0</td>\n",
              "      <td>0</td>\n",
              "      <td>1</td>\n",
              "      <td>0</td>\n",
              "      <td>0</td>\n",
              "      <td>0.0</td>\n",
              "      <td>6.666667</td>\n",
              "      <td>6.0</td>\n",
              "      <td>6.0</td>\n",
              "      <td>140</td>\n",
              "      <td>7</td>\n",
              "      <td>42</td>\n",
              "      <td>2</td>\n",
              "      <td>12</td>\n",
              "      <td>5840</td>\n",
              "      <td>0</td>\n",
              "      <td>6</td>\n",
              "      <td>20</td>\n",
              "      <td>18.0</td>\n",
              "      <td>29.444864</td>\n",
              "      <td>52.0</td>\n",
              "      <td>1.0</td>\n",
              "      <td>1.202128e+07</td>\n",
              "      <td>6.253623e+06</td>\n",
              "      <td>18628035.0</td>\n",
              "      <td>6193840.0</td>\n",
              "      <td>1</td>\n",
              "      <td>Syn</td>\n",
              "    </tr>\n",
              "    <tr>\n",
              "      <th>1</th>\n",
              "      <td>113842</td>\n",
              "      <td>44851366</td>\n",
              "      <td>8</td>\n",
              "      <td>4</td>\n",
              "      <td>48.0</td>\n",
              "      <td>24.0</td>\n",
              "      <td>6.0</td>\n",
              "      <td>6.0</td>\n",
              "      <td>6.0</td>\n",
              "      <td>0.0</td>\n",
              "      <td>6.0</td>\n",
              "      <td>6.0</td>\n",
              "      <td>6.0</td>\n",
              "      <td>0.0</td>\n",
              "      <td>1.605302e+00</td>\n",
              "      <td>2.675504e-01</td>\n",
              "      <td>4.077397e+06</td>\n",
              "      <td>9.056967e+06</td>\n",
              "      <td>28934293.0</td>\n",
              "      <td>1.0</td>\n",
              "      <td>44851314.0</td>\n",
              "      <td>6.407331e+06</td>\n",
              "      <td>1.092235e+07</td>\n",
              "      <td>28934293.0</td>\n",
              "      <td>1.0</td>\n",
              "      <td>3525902.0</td>\n",
              "      <td>1.175301e+06</td>\n",
              "      <td>2.035679e+06</td>\n",
              "      <td>3525900.0</td>\n",
              "      <td>1.0</td>\n",
              "      <td>0</td>\n",
              "      <td>160</td>\n",
              "      <td>80</td>\n",
              "      <td>1.783669e-01</td>\n",
              "      <td>0.089183</td>\n",
              "      <td>6.0</td>\n",
              "      <td>6.0</td>\n",
              "      <td>6.0</td>\n",
              "      <td>0.0</td>\n",
              "      <td>0.0</td>\n",
              "      <td>0</td>\n",
              "      <td>0</td>\n",
              "      <td>1</td>\n",
              "      <td>0</td>\n",
              "      <td>0</td>\n",
              "      <td>0.0</td>\n",
              "      <td>6.500000</td>\n",
              "      <td>6.0</td>\n",
              "      <td>6.0</td>\n",
              "      <td>160</td>\n",
              "      <td>8</td>\n",
              "      <td>48</td>\n",
              "      <td>4</td>\n",
              "      <td>24</td>\n",
              "      <td>5840</td>\n",
              "      <td>0</td>\n",
              "      <td>7</td>\n",
              "      <td>20</td>\n",
              "      <td>1.0</td>\n",
              "      <td>0.000000</td>\n",
              "      <td>1.0</td>\n",
              "      <td>1.0</td>\n",
              "      <td>2.066268e+07</td>\n",
              "      <td>1.169783e+07</td>\n",
              "      <td>28934293.0</td>\n",
              "      <td>12391060.0</td>\n",
              "      <td>1</td>\n",
              "      <td>Syn</td>\n",
              "    </tr>\n",
              "    <tr>\n",
              "      <th>2</th>\n",
              "      <td>176377</td>\n",
              "      <td>1</td>\n",
              "      <td>2</td>\n",
              "      <td>0</td>\n",
              "      <td>12.0</td>\n",
              "      <td>0.0</td>\n",
              "      <td>6.0</td>\n",
              "      <td>6.0</td>\n",
              "      <td>6.0</td>\n",
              "      <td>0.0</td>\n",
              "      <td>0.0</td>\n",
              "      <td>0.0</td>\n",
              "      <td>0.0</td>\n",
              "      <td>0.0</td>\n",
              "      <td>1.200000e+07</td>\n",
              "      <td>2.000000e+06</td>\n",
              "      <td>1.000000e+00</td>\n",
              "      <td>0.000000e+00</td>\n",
              "      <td>1.0</td>\n",
              "      <td>1.0</td>\n",
              "      <td>1.0</td>\n",
              "      <td>1.000000e+00</td>\n",
              "      <td>0.000000e+00</td>\n",
              "      <td>1.0</td>\n",
              "      <td>1.0</td>\n",
              "      <td>0.0</td>\n",
              "      <td>0.000000e+00</td>\n",
              "      <td>0.000000e+00</td>\n",
              "      <td>0.0</td>\n",
              "      <td>0.0</td>\n",
              "      <td>0</td>\n",
              "      <td>40</td>\n",
              "      <td>0</td>\n",
              "      <td>2.000000e+06</td>\n",
              "      <td>0.000000</td>\n",
              "      <td>6.0</td>\n",
              "      <td>6.0</td>\n",
              "      <td>6.0</td>\n",
              "      <td>0.0</td>\n",
              "      <td>0.0</td>\n",
              "      <td>1</td>\n",
              "      <td>0</td>\n",
              "      <td>0</td>\n",
              "      <td>1</td>\n",
              "      <td>0</td>\n",
              "      <td>0.0</td>\n",
              "      <td>9.000000</td>\n",
              "      <td>6.0</td>\n",
              "      <td>0.0</td>\n",
              "      <td>40</td>\n",
              "      <td>2</td>\n",
              "      <td>12</td>\n",
              "      <td>0</td>\n",
              "      <td>0</td>\n",
              "      <td>0</td>\n",
              "      <td>-1</td>\n",
              "      <td>1</td>\n",
              "      <td>20</td>\n",
              "      <td>0.0</td>\n",
              "      <td>0.000000</td>\n",
              "      <td>0.0</td>\n",
              "      <td>0.0</td>\n",
              "      <td>0.000000e+00</td>\n",
              "      <td>0.000000e+00</td>\n",
              "      <td>0.0</td>\n",
              "      <td>0.0</td>\n",
              "      <td>0</td>\n",
              "      <td>Syn</td>\n",
              "    </tr>\n",
              "    <tr>\n",
              "      <th>3</th>\n",
              "      <td>24777</td>\n",
              "      <td>0</td>\n",
              "      <td>2</td>\n",
              "      <td>0</td>\n",
              "      <td>12.0</td>\n",
              "      <td>0.0</td>\n",
              "      <td>6.0</td>\n",
              "      <td>6.0</td>\n",
              "      <td>6.0</td>\n",
              "      <td>0.0</td>\n",
              "      <td>0.0</td>\n",
              "      <td>0.0</td>\n",
              "      <td>0.0</td>\n",
              "      <td>0.0</td>\n",
              "      <td>inf</td>\n",
              "      <td>inf</td>\n",
              "      <td>0.000000e+00</td>\n",
              "      <td>0.000000e+00</td>\n",
              "      <td>0.0</td>\n",
              "      <td>0.0</td>\n",
              "      <td>0.0</td>\n",
              "      <td>0.000000e+00</td>\n",
              "      <td>0.000000e+00</td>\n",
              "      <td>0.0</td>\n",
              "      <td>0.0</td>\n",
              "      <td>0.0</td>\n",
              "      <td>0.000000e+00</td>\n",
              "      <td>0.000000e+00</td>\n",
              "      <td>0.0</td>\n",
              "      <td>0.0</td>\n",
              "      <td>0</td>\n",
              "      <td>40</td>\n",
              "      <td>0</td>\n",
              "      <td>0.000000e+00</td>\n",
              "      <td>0.000000</td>\n",
              "      <td>6.0</td>\n",
              "      <td>6.0</td>\n",
              "      <td>6.0</td>\n",
              "      <td>0.0</td>\n",
              "      <td>0.0</td>\n",
              "      <td>0</td>\n",
              "      <td>0</td>\n",
              "      <td>1</td>\n",
              "      <td>0</td>\n",
              "      <td>0</td>\n",
              "      <td>0.0</td>\n",
              "      <td>9.000000</td>\n",
              "      <td>6.0</td>\n",
              "      <td>0.0</td>\n",
              "      <td>40</td>\n",
              "      <td>2</td>\n",
              "      <td>12</td>\n",
              "      <td>0</td>\n",
              "      <td>0</td>\n",
              "      <td>5840</td>\n",
              "      <td>-1</td>\n",
              "      <td>1</td>\n",
              "      <td>20</td>\n",
              "      <td>0.0</td>\n",
              "      <td>0.000000</td>\n",
              "      <td>0.0</td>\n",
              "      <td>0.0</td>\n",
              "      <td>0.000000e+00</td>\n",
              "      <td>0.000000e+00</td>\n",
              "      <td>0.0</td>\n",
              "      <td>0.0</td>\n",
              "      <td>1</td>\n",
              "      <td>Syn</td>\n",
              "    </tr>\n",
              "    <tr>\n",
              "      <th>4</th>\n",
              "      <td>85100</td>\n",
              "      <td>35731470</td>\n",
              "      <td>8</td>\n",
              "      <td>2</td>\n",
              "      <td>48.0</td>\n",
              "      <td>12.0</td>\n",
              "      <td>6.0</td>\n",
              "      <td>6.0</td>\n",
              "      <td>6.0</td>\n",
              "      <td>0.0</td>\n",
              "      <td>6.0</td>\n",
              "      <td>6.0</td>\n",
              "      <td>6.0</td>\n",
              "      <td>0.0</td>\n",
              "      <td>1.679192e+00</td>\n",
              "      <td>2.798653e-01</td>\n",
              "      <td>3.970163e+06</td>\n",
              "      <td>6.026604e+06</td>\n",
              "      <td>13693985.0</td>\n",
              "      <td>0.0</td>\n",
              "      <td>35731470.0</td>\n",
              "      <td>5.104496e+06</td>\n",
              "      <td>6.455349e+06</td>\n",
              "      <td>13693985.0</td>\n",
              "      <td>0.0</td>\n",
              "      <td>1.0</td>\n",
              "      <td>1.000000e+00</td>\n",
              "      <td>0.000000e+00</td>\n",
              "      <td>1.0</td>\n",
              "      <td>1.0</td>\n",
              "      <td>0</td>\n",
              "      <td>160</td>\n",
              "      <td>40</td>\n",
              "      <td>2.238923e-01</td>\n",
              "      <td>0.055973</td>\n",
              "      <td>6.0</td>\n",
              "      <td>6.0</td>\n",
              "      <td>6.0</td>\n",
              "      <td>0.0</td>\n",
              "      <td>0.0</td>\n",
              "      <td>0</td>\n",
              "      <td>0</td>\n",
              "      <td>1</td>\n",
              "      <td>0</td>\n",
              "      <td>0</td>\n",
              "      <td>0.0</td>\n",
              "      <td>6.600000</td>\n",
              "      <td>6.0</td>\n",
              "      <td>6.0</td>\n",
              "      <td>160</td>\n",
              "      <td>8</td>\n",
              "      <td>48</td>\n",
              "      <td>2</td>\n",
              "      <td>12</td>\n",
              "      <td>5840</td>\n",
              "      <td>0</td>\n",
              "      <td>7</td>\n",
              "      <td>20</td>\n",
              "      <td>24.5</td>\n",
              "      <td>33.234019</td>\n",
              "      <td>48.0</td>\n",
              "      <td>1.0</td>\n",
              "      <td>1.191047e+07</td>\n",
              "      <td>1.849493e+06</td>\n",
              "      <td>13693985.0</td>\n",
              "      <td>10001398.0</td>\n",
              "      <td>1</td>\n",
              "      <td>Syn</td>\n",
              "    </tr>\n",
              "  </tbody>\n",
              "</table>\n",
              "</div>"
            ],
            "text/plain": [
              "   Unnamed: 0.1.1   Flow Duration  ...   Inbound  Label\n",
              "0          445444        36063894  ...         1    Syn\n",
              "1          113842        44851366  ...         1    Syn\n",
              "2          176377               1  ...         0    Syn\n",
              "3           24777               0  ...         1    Syn\n",
              "4           85100        35731470  ...         1    Syn\n",
              "\n",
              "[5 rows x 68 columns]"
            ]
          },
          "metadata": {
            "tags": []
          },
          "execution_count": 9
        }
      ]
    },
    {
      "cell_type": "code",
      "metadata": {
        "colab": {
          "base_uri": "https://localhost:8080/"
        },
        "id": "j90qngBq8dG5",
        "outputId": "bdcf98ff-eb60-4cda-8acf-8bb4e629dcb0"
      },
      "source": [
        "df.Label.value_counts()"
      ],
      "execution_count": null,
      "outputs": [
        {
          "output_type": "execute_result",
          "data": {
            "text/plain": [
              "1    1301400\n",
              "2     837640\n",
              "0      77574\n",
              "3       1873\n",
              "Name: Label, dtype: int64"
            ]
          },
          "metadata": {
            "tags": []
          },
          "execution_count": 8
        }
      ]
    },
    {
      "cell_type": "code",
      "metadata": {
        "colab": {
          "base_uri": "https://localhost:8080/"
        },
        "id": "0QwP-vG6yq-R",
        "outputId": "bdd0f4bd-1819-49bf-879d-f81c5bb3188f"
      },
      "source": [
        "df.info()"
      ],
      "execution_count": null,
      "outputs": [
        {
          "output_type": "stream",
          "text": [
            "<class 'pandas.core.frame.DataFrame'>\n",
            "RangeIndex: 2218487 entries, 0 to 2218486\n",
            "Data columns (total 68 columns):\n",
            " #   Column                        Dtype  \n",
            "---  ------                        -----  \n",
            " 0   Unnamed: 0.1.1                int64  \n",
            " 1    Flow Duration                int64  \n",
            " 2    Total Fwd Packets            int64  \n",
            " 3    Total Backward Packets       int64  \n",
            " 4   Total Length of Fwd Packets   float64\n",
            " 5    Total Length of Bwd Packets  float64\n",
            " 6    Fwd Packet Length Max        float64\n",
            " 7    Fwd Packet Length Min        float64\n",
            " 8    Fwd Packet Length Mean       float64\n",
            " 9    Fwd Packet Length Std        float64\n",
            " 10  Bwd Packet Length Max         float64\n",
            " 11   Bwd Packet Length Min        float64\n",
            " 12   Bwd Packet Length Mean       float64\n",
            " 13   Bwd Packet Length Std        float64\n",
            " 14  Flow Bytes/s                  float64\n",
            " 15   Flow Packets/s               float64\n",
            " 16   Flow IAT Mean                float64\n",
            " 17   Flow IAT Std                 float64\n",
            " 18   Flow IAT Max                 float64\n",
            " 19   Flow IAT Min                 float64\n",
            " 20  Fwd IAT Total                 float64\n",
            " 21   Fwd IAT Mean                 float64\n",
            " 22   Fwd IAT Std                  float64\n",
            " 23   Fwd IAT Max                  float64\n",
            " 24   Fwd IAT Min                  float64\n",
            " 25  Bwd IAT Total                 float64\n",
            " 26   Bwd IAT Mean                 float64\n",
            " 27   Bwd IAT Std                  float64\n",
            " 28   Bwd IAT Max                  float64\n",
            " 29   Bwd IAT Min                  float64\n",
            " 30  Fwd PSH Flags                 int64  \n",
            " 31   Fwd Header Length            int64  \n",
            " 32   Bwd Header Length            int64  \n",
            " 33  Fwd Packets/s                 float64\n",
            " 34   Bwd Packets/s                float64\n",
            " 35   Min Packet Length            float64\n",
            " 36   Max Packet Length            float64\n",
            " 37   Packet Length Mean           float64\n",
            " 38   Packet Length Std            float64\n",
            " 39   Packet Length Variance       float64\n",
            " 40   SYN Flag Count               int64  \n",
            " 41   RST Flag Count               int64  \n",
            " 42   ACK Flag Count               int64  \n",
            " 43   URG Flag Count               int64  \n",
            " 44   CWE Flag Count               int64  \n",
            " 45   Down/Up Ratio                float64\n",
            " 46   Average Packet Size          float64\n",
            " 47   Avg Fwd Segment Size         float64\n",
            " 48   Avg Bwd Segment Size         float64\n",
            " 49   Fwd Header Length.1          int64  \n",
            " 50  Subflow Fwd Packets           int64  \n",
            " 51   Subflow Fwd Bytes            int64  \n",
            " 52   Subflow Bwd Packets          int64  \n",
            " 53   Subflow Bwd Bytes            int64  \n",
            " 54  Init_Win_bytes_forward        int64  \n",
            " 55   Init_Win_bytes_backward      int64  \n",
            " 56   act_data_pkt_fwd             int64  \n",
            " 57   min_seg_size_forward         int64  \n",
            " 58  Active Mean                   float64\n",
            " 59   Active Std                   float64\n",
            " 60   Active Max                   float64\n",
            " 61   Active Min                   float64\n",
            " 62  Idle Mean                     float64\n",
            " 63   Idle Std                     float64\n",
            " 64   Idle Max                     float64\n",
            " 65   Idle Min                     float64\n",
            " 66   Inbound                      int64  \n",
            " 67  Label                         int64  \n",
            "dtypes: float64(45), int64(23)\n",
            "memory usage: 1.1 GB\n"
          ],
          "name": "stdout"
        }
      ]
    },
    {
      "cell_type": "markdown",
      "metadata": {
        "id": "CyGH08sUG2BA"
      },
      "source": [
        "### **데이터 column 추출**"
      ]
    },
    {
      "cell_type": "code",
      "metadata": {
        "colab": {
          "base_uri": "https://localhost:8080/",
          "height": 387
        },
        "id": "ubV0XeB8-Pra",
        "outputId": "1b581ed5-49c8-4d68-a489-1736c70a7e42"
      },
      "source": [
        "import matplotlib.pyplot as plt\n",
        "import seaborn as sn\n",
        "cor = df.corr()\n",
        "sn.heatmap(cor, annot=True, cmap=plt.cm.Blues)\n",
        "plt.show()"
      ],
      "execution_count": null,
      "outputs": [
        {
          "output_type": "display_data",
          "data": {
            "image/png": "[encoded data removed]",
            "text/plain": [
              "<Figure size 432x288 with 2 Axes>"
            ]
          },
          "metadata": {
            "tags": [],
            "needs_background": "light"
          }
        }
      ]
    },
    {
      "cell_type": "code",
      "metadata": {
        "colab": {
          "base_uri": "https://localhost:8080/"
        },
        "id": "LvjihZV1_MnM",
        "outputId": "ed501f6d-be28-43de-bc03-870603637084"
      },
      "source": [
        "cor[\" Flow Duration\"].sort_values(ascending=False)"
      ],
      "execution_count": null,
      "outputs": [
        {
          "output_type": "execute_result",
          "data": {
            "text/plain": [
              " Flow Duration            1.000000\n",
              "Fwd IAT Total             0.999777\n",
              " Idle Max                 0.912455\n",
              " Flow IAT Max             0.912294\n",
              " Fwd IAT Max              0.912272\n",
              "                            ...   \n",
              " Fwd Packet Length Min   -0.228811\n",
              " Min Packet Length       -0.228982\n",
              "Fwd Packets/s            -0.229641\n",
              "Label                    -0.242163\n",
              " Flow Packets/s          -0.249061\n",
              "Name:  Flow Duration, Length: 68, dtype: float64"
            ]
          },
          "metadata": {
            "tags": []
          },
          "execution_count": 42
        }
      ]
    },
    {
      "cell_type": "code",
      "metadata": {
        "colab": {
          "base_uri": "https://localhost:8080/"
        },
        "id": "0yLQrEdpA3HZ",
        "outputId": "54297129-90c8-41df-9021-c1a51ad7c317"
      },
      "source": [
        "cor[\" Bwd Packet Length Std\"].sort_values(ascending=False)"
      ],
      "execution_count": null,
      "outputs": [
        {
          "output_type": "execute_result",
          "data": {
            "text/plain": [
              " Bwd Packet Length Std     1.000000\n",
              "Bwd Packet Length Max      0.968933\n",
              " Packet Length Std         0.900648\n",
              " Avg Bwd Segment Size      0.863358\n",
              " Bwd Packet Length Mean    0.863358\n",
              "                             ...   \n",
              " Min Packet Length        -0.056721\n",
              " Flow Packets/s           -0.058010\n",
              "Unnamed: 0.1.1            -0.101057\n",
              "Label                     -0.167929\n",
              " Inbound                  -0.389904\n",
              "Name:  Bwd Packet Length Std, Length: 68, dtype: float64"
            ]
          },
          "metadata": {
            "tags": []
          },
          "execution_count": 44
        }
      ]
    },
    {
      "cell_type": "code",
      "metadata": {
        "colab": {
          "base_uri": "https://localhost:8080/"
        },
        "id": "aqWDV9moBSsO",
        "outputId": "ae969f52-0f59-44d3-f8e3-edf3d807b919"
      },
      "source": [
        "cor[\" Average Packet Size\"].sort_values(ascending=False)"
      ],
      "execution_count": null,
      "outputs": [
        {
          "output_type": "execute_result",
          "data": {
            "text/plain": [
              " Average Packet Size       1.000000\n",
              " Packet Length Mean        0.989523\n",
              " Min Packet Length         0.986226\n",
              " Fwd Packet Length Min     0.985933\n",
              " Fwd Packet Length Mean    0.983855\n",
              "                             ...   \n",
              " Flow IAT Std             -0.220970\n",
              " Fwd IAT Mean             -0.229191\n",
              " Down/Up Ratio            -0.348764\n",
              "Init_Win_bytes_forward    -0.752468\n",
              " ACK Flag Count           -0.918910\n",
              "Name:  Average Packet Size, Length: 68, dtype: float64"
            ]
          },
          "metadata": {
            "tags": []
          },
          "execution_count": 45
        }
      ]
    },
    {
      "cell_type": "code",
      "metadata": {
        "colab": {
          "base_uri": "https://localhost:8080/"
        },
        "id": "eGdjl2VkBoxb",
        "outputId": "c1bee9cd-a032-49c2-9449-4034b712ffe4"
      },
      "source": [
        " cor[\" Flow IAT Std\"].sort_values(ascending=False)"
      ],
      "execution_count": null,
      "outputs": [
        {
          "output_type": "execute_result",
          "data": {
            "text/plain": [
              " Flow IAT Std             1.000000\n",
              " Fwd IAT Std              0.994124\n",
              " Fwd IAT Mean             0.978718\n",
              " Flow IAT Mean            0.966856\n",
              " Flow IAT Max             0.949125\n",
              "                            ...   \n",
              " Avg Fwd Segment Size    -0.224290\n",
              " Fwd Packet Length Min   -0.228832\n",
              " Min Packet Length       -0.228998\n",
              "Fwd Packets/s            -0.234872\n",
              " Flow Packets/s          -0.254762\n",
              "Name:  Flow IAT Std, Length: 68, dtype: float64"
            ]
          },
          "metadata": {
            "tags": []
          },
          "execution_count": 47
        }
      ]
    },
    {
      "cell_type": "code",
      "metadata": {
        "id": "CH2-Xkmf6bjO"
      },
      "source": [
        "from pandas.plotting import scatter_matrix\n",
        "\n",
        "attributes = [\" Flow Duration\", \" Bwd Packet Length Std\", \" Average Packet Size\",\" Flow IAT Std\"]\n",
        "scatter_matrix(df[attributes], figsize=(12, 8))"
      ],
      "execution_count": null,
      "outputs": []
    },
    {
      "cell_type": "code",
      "metadata": {
        "colab": {
          "base_uri": "https://localhost:8080/",
          "height": 427
        },
        "id": "fjtlnHycKxC8",
        "outputId": "96cd593b-5093-4ac3-adc0-827c3ba73f9e"
      },
      "source": [
        "ddos = df.loc[:, [' Flow IAT Std',\n",
        "                  ' Flow IAT Mean',\n",
        "                  ' Flow IAT Min',\n",
        "                  ' Flow IAT Max',\n",
        "                  ' Fwd IAT Std',\n",
        "                  ' Fwd IAT Mean',\n",
        "                  ' Fwd IAT Max',\n",
        "                  ' Packet Length Mean',\n",
        "                  ' Packet Length Std',\n",
        "                  ' Average Packet Size',\n",
        "                  ' Min Packet Length',\n",
        "                  ' Fwd Packet Length Min',\n",
        "                  ' Fwd Packet Length Mean',\n",
        "                  ' Bwd Packet Length Std',\n",
        "                  'Bwd Packet Length Max',\n",
        "                  ' Bwd Packet Length Mean',\n",
        "                  ' Avg Bwd Segment Size',\n",
        "                  ' Flow Duration',\n",
        "                  'Label']]\n",
        "ddos.head(10)"
      ],
      "execution_count": null,
      "outputs": [
        {
          "output_type": "execute_result",
          "data": {
            "text/html": [
              "<div>\n",
              "<style scoped>\n",
              "    .dataframe tbody tr th:only-of-type {\n",
              "        vertical-align: middle;\n",
              "    }\n",
              "\n",
              "    .dataframe tbody tr th {\n",
              "        vertical-align: top;\n",
              "    }\n",
              "\n",
              "    .dataframe thead th {\n",
              "        text-align: right;\n",
              "    }\n",
              "</style>\n",
              "<table border=\"1\" class=\"dataframe\">\n",
              "  <thead>\n",
              "    <tr style=\"text-align: right;\">\n",
              "      <th></th>\n",
              "      <th>Flow IAT Std</th>\n",
              "      <th>Flow IAT Mean</th>\n",
              "      <th>Flow IAT Min</th>\n",
              "      <th>Flow IAT Max</th>\n",
              "      <th>Fwd IAT Std</th>\n",
              "      <th>Fwd IAT Mean</th>\n",
              "      <th>Fwd IAT Max</th>\n",
              "      <th>Packet Length Mean</th>\n",
              "      <th>Packet Length Std</th>\n",
              "      <th>Average Packet Size</th>\n",
              "      <th>Min Packet Length</th>\n",
              "      <th>Fwd Packet Length Min</th>\n",
              "      <th>Fwd Packet Length Mean</th>\n",
              "      <th>Bwd Packet Length Std</th>\n",
              "      <th>Bwd Packet Length Max</th>\n",
              "      <th>Bwd Packet Length Mean</th>\n",
              "      <th>Avg Bwd Segment Size</th>\n",
              "      <th>Flow Duration</th>\n",
              "      <th>Label</th>\n",
              "    </tr>\n",
              "  </thead>\n",
              "  <tbody>\n",
              "    <tr>\n",
              "      <th>0</th>\n",
              "      <td>7.062714e+06</td>\n",
              "      <td>4.507987e+06</td>\n",
              "      <td>1.0</td>\n",
              "      <td>18628035.0</td>\n",
              "      <td>7.680923e+06</td>\n",
              "      <td>6.010649e+06</td>\n",
              "      <td>18628035.0</td>\n",
              "      <td>6.0</td>\n",
              "      <td>0.0</td>\n",
              "      <td>6.666667</td>\n",
              "      <td>6.0</td>\n",
              "      <td>6.0</td>\n",
              "      <td>6.0</td>\n",
              "      <td>0.0</td>\n",
              "      <td>6.0</td>\n",
              "      <td>6.0</td>\n",
              "      <td>6.0</td>\n",
              "      <td>36063894</td>\n",
              "      <td>1</td>\n",
              "    </tr>\n",
              "    <tr>\n",
              "      <th>1</th>\n",
              "      <td>9.056967e+06</td>\n",
              "      <td>4.077397e+06</td>\n",
              "      <td>1.0</td>\n",
              "      <td>28934293.0</td>\n",
              "      <td>1.092235e+07</td>\n",
              "      <td>6.407331e+06</td>\n",
              "      <td>28934293.0</td>\n",
              "      <td>6.0</td>\n",
              "      <td>0.0</td>\n",
              "      <td>6.500000</td>\n",
              "      <td>6.0</td>\n",
              "      <td>6.0</td>\n",
              "      <td>6.0</td>\n",
              "      <td>0.0</td>\n",
              "      <td>6.0</td>\n",
              "      <td>6.0</td>\n",
              "      <td>6.0</td>\n",
              "      <td>44851366</td>\n",
              "      <td>1</td>\n",
              "    </tr>\n",
              "    <tr>\n",
              "      <th>2</th>\n",
              "      <td>0.000000e+00</td>\n",
              "      <td>1.000000e+00</td>\n",
              "      <td>1.0</td>\n",
              "      <td>1.0</td>\n",
              "      <td>0.000000e+00</td>\n",
              "      <td>1.000000e+00</td>\n",
              "      <td>1.0</td>\n",
              "      <td>6.0</td>\n",
              "      <td>0.0</td>\n",
              "      <td>9.000000</td>\n",
              "      <td>6.0</td>\n",
              "      <td>6.0</td>\n",
              "      <td>6.0</td>\n",
              "      <td>0.0</td>\n",
              "      <td>0.0</td>\n",
              "      <td>0.0</td>\n",
              "      <td>0.0</td>\n",
              "      <td>1</td>\n",
              "      <td>1</td>\n",
              "    </tr>\n",
              "    <tr>\n",
              "      <th>3</th>\n",
              "      <td>0.000000e+00</td>\n",
              "      <td>0.000000e+00</td>\n",
              "      <td>0.0</td>\n",
              "      <td>0.0</td>\n",
              "      <td>0.000000e+00</td>\n",
              "      <td>0.000000e+00</td>\n",
              "      <td>0.0</td>\n",
              "      <td>6.0</td>\n",
              "      <td>0.0</td>\n",
              "      <td>9.000000</td>\n",
              "      <td>6.0</td>\n",
              "      <td>6.0</td>\n",
              "      <td>6.0</td>\n",
              "      <td>0.0</td>\n",
              "      <td>0.0</td>\n",
              "      <td>0.0</td>\n",
              "      <td>0.0</td>\n",
              "      <td>0</td>\n",
              "      <td>1</td>\n",
              "    </tr>\n",
              "    <tr>\n",
              "      <th>4</th>\n",
              "      <td>6.026604e+06</td>\n",
              "      <td>3.970163e+06</td>\n",
              "      <td>0.0</td>\n",
              "      <td>13693985.0</td>\n",
              "      <td>6.455349e+06</td>\n",
              "      <td>5.104496e+06</td>\n",
              "      <td>13693985.0</td>\n",
              "      <td>6.0</td>\n",
              "      <td>0.0</td>\n",
              "      <td>6.600000</td>\n",
              "      <td>6.0</td>\n",
              "      <td>6.0</td>\n",
              "      <td>6.0</td>\n",
              "      <td>0.0</td>\n",
              "      <td>6.0</td>\n",
              "      <td>6.0</td>\n",
              "      <td>6.0</td>\n",
              "      <td>35731470</td>\n",
              "      <td>1</td>\n",
              "    </tr>\n",
              "    <tr>\n",
              "      <th>5</th>\n",
              "      <td>5.658033e+01</td>\n",
              "      <td>3.366667e+01</td>\n",
              "      <td>1.0</td>\n",
              "      <td>99.0</td>\n",
              "      <td>0.000000e+00</td>\n",
              "      <td>1.000000e+00</td>\n",
              "      <td>1.0</td>\n",
              "      <td>6.0</td>\n",
              "      <td>0.0</td>\n",
              "      <td>7.500000</td>\n",
              "      <td>6.0</td>\n",
              "      <td>6.0</td>\n",
              "      <td>6.0</td>\n",
              "      <td>0.0</td>\n",
              "      <td>6.0</td>\n",
              "      <td>6.0</td>\n",
              "      <td>6.0</td>\n",
              "      <td>101</td>\n",
              "      <td>1</td>\n",
              "    </tr>\n",
              "    <tr>\n",
              "      <th>6</th>\n",
              "      <td>2.861818e+01</td>\n",
              "      <td>3.400000e+01</td>\n",
              "      <td>1.0</td>\n",
              "      <td>52.0</td>\n",
              "      <td>0.000000e+00</td>\n",
              "      <td>4.900000e+01</td>\n",
              "      <td>49.0</td>\n",
              "      <td>6.0</td>\n",
              "      <td>0.0</td>\n",
              "      <td>7.500000</td>\n",
              "      <td>6.0</td>\n",
              "      <td>6.0</td>\n",
              "      <td>6.0</td>\n",
              "      <td>0.0</td>\n",
              "      <td>6.0</td>\n",
              "      <td>6.0</td>\n",
              "      <td>6.0</td>\n",
              "      <td>102</td>\n",
              "      <td>1</td>\n",
              "    </tr>\n",
              "    <tr>\n",
              "      <th>7</th>\n",
              "      <td>0.000000e+00</td>\n",
              "      <td>1.000000e+00</td>\n",
              "      <td>1.0</td>\n",
              "      <td>1.0</td>\n",
              "      <td>0.000000e+00</td>\n",
              "      <td>1.000000e+00</td>\n",
              "      <td>1.0</td>\n",
              "      <td>6.0</td>\n",
              "      <td>0.0</td>\n",
              "      <td>9.000000</td>\n",
              "      <td>6.0</td>\n",
              "      <td>6.0</td>\n",
              "      <td>6.0</td>\n",
              "      <td>0.0</td>\n",
              "      <td>0.0</td>\n",
              "      <td>0.0</td>\n",
              "      <td>0.0</td>\n",
              "      <td>1</td>\n",
              "      <td>1</td>\n",
              "    </tr>\n",
              "    <tr>\n",
              "      <th>8</th>\n",
              "      <td>2.081666e+00</td>\n",
              "      <td>5.033333e+01</td>\n",
              "      <td>48.0</td>\n",
              "      <td>52.0</td>\n",
              "      <td>0.000000e+00</td>\n",
              "      <td>5.100000e+01</td>\n",
              "      <td>51.0</td>\n",
              "      <td>6.0</td>\n",
              "      <td>0.0</td>\n",
              "      <td>7.500000</td>\n",
              "      <td>6.0</td>\n",
              "      <td>6.0</td>\n",
              "      <td>6.0</td>\n",
              "      <td>0.0</td>\n",
              "      <td>6.0</td>\n",
              "      <td>6.0</td>\n",
              "      <td>6.0</td>\n",
              "      <td>151</td>\n",
              "      <td>1</td>\n",
              "    </tr>\n",
              "    <tr>\n",
              "      <th>9</th>\n",
              "      <td>0.000000e+00</td>\n",
              "      <td>1.000000e+00</td>\n",
              "      <td>1.0</td>\n",
              "      <td>1.0</td>\n",
              "      <td>0.000000e+00</td>\n",
              "      <td>1.000000e+00</td>\n",
              "      <td>1.0</td>\n",
              "      <td>6.0</td>\n",
              "      <td>0.0</td>\n",
              "      <td>9.000000</td>\n",
              "      <td>6.0</td>\n",
              "      <td>6.0</td>\n",
              "      <td>6.0</td>\n",
              "      <td>0.0</td>\n",
              "      <td>0.0</td>\n",
              "      <td>0.0</td>\n",
              "      <td>0.0</td>\n",
              "      <td>1</td>\n",
              "      <td>1</td>\n",
              "    </tr>\n",
              "  </tbody>\n",
              "</table>\n",
              "</div>"
            ],
            "text/plain": [
              "    Flow IAT Std   Flow IAT Mean  ...   Flow Duration  Label\n",
              "0   7.062714e+06    4.507987e+06  ...        36063894      1\n",
              "1   9.056967e+06    4.077397e+06  ...        44851366      1\n",
              "2   0.000000e+00    1.000000e+00  ...               1      1\n",
              "3   0.000000e+00    0.000000e+00  ...               0      1\n",
              "4   6.026604e+06    3.970163e+06  ...        35731470      1\n",
              "5   5.658033e+01    3.366667e+01  ...             101      1\n",
              "6   2.861818e+01    3.400000e+01  ...             102      1\n",
              "7   0.000000e+00    1.000000e+00  ...               1      1\n",
              "8   2.081666e+00    5.033333e+01  ...             151      1\n",
              "9   0.000000e+00    1.000000e+00  ...               1      1\n",
              "\n",
              "[10 rows x 19 columns]"
            ]
          },
          "metadata": {
            "tags": []
          },
          "execution_count": 9
        }
      ]
    },
    {
      "cell_type": "markdown",
      "metadata": {
        "id": "Gp0eBasCGexB"
      },
      "source": [
        "### **Missing value 처리**"
      ]
    },
    {
      "cell_type": "code",
      "metadata": {
        "id": "xNHjgzJu5loN"
      },
      "source": [
        "from sklearn.impute import SimpleImputer\n",
        "\n",
        "imr = SimpleImputer(missing_values=np.nan, strategy='mean')\n",
        "imr = imr.fit(ddos.values)\n",
        "imputed_data = imr.transform(ddos.values)"
      ],
      "execution_count": null,
      "outputs": []
    },
    {
      "cell_type": "code",
      "metadata": {
        "colab": {
          "base_uri": "https://localhost:8080/",
          "height": 487
        },
        "id": "hPfvImzNHzdK",
        "outputId": "25dcce51-6fbf-4d9c-b31e-77880f874e0e"
      },
      "source": [
        "ddos.dropna()"
      ],
      "execution_count": null,
      "outputs": [
        {
          "output_type": "execute_result",
          "data": {
            "text/html": [
              "<div>\n",
              "<style scoped>\n",
              "    .dataframe tbody tr th:only-of-type {\n",
              "        vertical-align: middle;\n",
              "    }\n",
              "\n",
              "    .dataframe tbody tr th {\n",
              "        vertical-align: top;\n",
              "    }\n",
              "\n",
              "    .dataframe thead th {\n",
              "        text-align: right;\n",
              "    }\n",
              "</style>\n",
              "<table border=\"1\" class=\"dataframe\">\n",
              "  <thead>\n",
              "    <tr style=\"text-align: right;\">\n",
              "      <th></th>\n",
              "      <th>Flow IAT Std</th>\n",
              "      <th>Flow IAT Mean</th>\n",
              "      <th>Flow IAT Min</th>\n",
              "      <th>Flow IAT Max</th>\n",
              "      <th>Fwd IAT Std</th>\n",
              "      <th>Fwd IAT Mean</th>\n",
              "      <th>Fwd IAT Max</th>\n",
              "      <th>Packet Length Mean</th>\n",
              "      <th>Packet Length Std</th>\n",
              "      <th>Average Packet Size</th>\n",
              "      <th>Min Packet Length</th>\n",
              "      <th>Fwd Packet Length Min</th>\n",
              "      <th>Fwd Packet Length Mean</th>\n",
              "      <th>Bwd Packet Length Std</th>\n",
              "      <th>Bwd Packet Length Max</th>\n",
              "      <th>Bwd Packet Length Mean</th>\n",
              "      <th>Avg Bwd Segment Size</th>\n",
              "      <th>Flow Duration</th>\n",
              "      <th>Label</th>\n",
              "    </tr>\n",
              "  </thead>\n",
              "  <tbody>\n",
              "    <tr>\n",
              "      <th>0</th>\n",
              "      <td>7.062714e+06</td>\n",
              "      <td>4.507987e+06</td>\n",
              "      <td>1.0</td>\n",
              "      <td>18628035.0</td>\n",
              "      <td>7.680923e+06</td>\n",
              "      <td>6.010649e+06</td>\n",
              "      <td>18628035.0</td>\n",
              "      <td>6.0</td>\n",
              "      <td>0.0</td>\n",
              "      <td>6.666667</td>\n",
              "      <td>6.0</td>\n",
              "      <td>6.0</td>\n",
              "      <td>6.0</td>\n",
              "      <td>0.0</td>\n",
              "      <td>6.0</td>\n",
              "      <td>6.0</td>\n",
              "      <td>6.0</td>\n",
              "      <td>36063894</td>\n",
              "      <td>1</td>\n",
              "    </tr>\n",
              "    <tr>\n",
              "      <th>1</th>\n",
              "      <td>9.056967e+06</td>\n",
              "      <td>4.077397e+06</td>\n",
              "      <td>1.0</td>\n",
              "      <td>28934293.0</td>\n",
              "      <td>1.092235e+07</td>\n",
              "      <td>6.407331e+06</td>\n",
              "      <td>28934293.0</td>\n",
              "      <td>6.0</td>\n",
              "      <td>0.0</td>\n",
              "      <td>6.500000</td>\n",
              "      <td>6.0</td>\n",
              "      <td>6.0</td>\n",
              "      <td>6.0</td>\n",
              "      <td>0.0</td>\n",
              "      <td>6.0</td>\n",
              "      <td>6.0</td>\n",
              "      <td>6.0</td>\n",
              "      <td>44851366</td>\n",
              "      <td>1</td>\n",
              "    </tr>\n",
              "    <tr>\n",
              "      <th>2</th>\n",
              "      <td>0.000000e+00</td>\n",
              "      <td>1.000000e+00</td>\n",
              "      <td>1.0</td>\n",
              "      <td>1.0</td>\n",
              "      <td>0.000000e+00</td>\n",
              "      <td>1.000000e+00</td>\n",
              "      <td>1.0</td>\n",
              "      <td>6.0</td>\n",
              "      <td>0.0</td>\n",
              "      <td>9.000000</td>\n",
              "      <td>6.0</td>\n",
              "      <td>6.0</td>\n",
              "      <td>6.0</td>\n",
              "      <td>0.0</td>\n",
              "      <td>0.0</td>\n",
              "      <td>0.0</td>\n",
              "      <td>0.0</td>\n",
              "      <td>1</td>\n",
              "      <td>1</td>\n",
              "    </tr>\n",
              "    <tr>\n",
              "      <th>3</th>\n",
              "      <td>0.000000e+00</td>\n",
              "      <td>0.000000e+00</td>\n",
              "      <td>0.0</td>\n",
              "      <td>0.0</td>\n",
              "      <td>0.000000e+00</td>\n",
              "      <td>0.000000e+00</td>\n",
              "      <td>0.0</td>\n",
              "      <td>6.0</td>\n",
              "      <td>0.0</td>\n",
              "      <td>9.000000</td>\n",
              "      <td>6.0</td>\n",
              "      <td>6.0</td>\n",
              "      <td>6.0</td>\n",
              "      <td>0.0</td>\n",
              "      <td>0.0</td>\n",
              "      <td>0.0</td>\n",
              "      <td>0.0</td>\n",
              "      <td>0</td>\n",
              "      <td>1</td>\n",
              "    </tr>\n",
              "    <tr>\n",
              "      <th>4</th>\n",
              "      <td>6.026604e+06</td>\n",
              "      <td>3.970163e+06</td>\n",
              "      <td>0.0</td>\n",
              "      <td>13693985.0</td>\n",
              "      <td>6.455349e+06</td>\n",
              "      <td>5.104496e+06</td>\n",
              "      <td>13693985.0</td>\n",
              "      <td>6.0</td>\n",
              "      <td>0.0</td>\n",
              "      <td>6.600000</td>\n",
              "      <td>6.0</td>\n",
              "      <td>6.0</td>\n",
              "      <td>6.0</td>\n",
              "      <td>0.0</td>\n",
              "      <td>6.0</td>\n",
              "      <td>6.0</td>\n",
              "      <td>6.0</td>\n",
              "      <td>35731470</td>\n",
              "      <td>1</td>\n",
              "    </tr>\n",
              "    <tr>\n",
              "      <th>...</th>\n",
              "      <td>...</td>\n",
              "      <td>...</td>\n",
              "      <td>...</td>\n",
              "      <td>...</td>\n",
              "      <td>...</td>\n",
              "      <td>...</td>\n",
              "      <td>...</td>\n",
              "      <td>...</td>\n",
              "      <td>...</td>\n",
              "      <td>...</td>\n",
              "      <td>...</td>\n",
              "      <td>...</td>\n",
              "      <td>...</td>\n",
              "      <td>...</td>\n",
              "      <td>...</td>\n",
              "      <td>...</td>\n",
              "      <td>...</td>\n",
              "      <td>...</td>\n",
              "      <td>...</td>\n",
              "    </tr>\n",
              "    <tr>\n",
              "      <th>2218482</th>\n",
              "      <td>3.747666e+01</td>\n",
              "      <td>2.650000e+01</td>\n",
              "      <td>0.0</td>\n",
              "      <td>53.0</td>\n",
              "      <td>0.000000e+00</td>\n",
              "      <td>0.000000e+00</td>\n",
              "      <td>0.0</td>\n",
              "      <td>0.0</td>\n",
              "      <td>0.0</td>\n",
              "      <td>0.000000</td>\n",
              "      <td>0.0</td>\n",
              "      <td>0.0</td>\n",
              "      <td>0.0</td>\n",
              "      <td>0.0</td>\n",
              "      <td>0.0</td>\n",
              "      <td>0.0</td>\n",
              "      <td>0.0</td>\n",
              "      <td>53</td>\n",
              "      <td>0</td>\n",
              "    </tr>\n",
              "    <tr>\n",
              "      <th>2218483</th>\n",
              "      <td>4.525483e+01</td>\n",
              "      <td>3.300000e+01</td>\n",
              "      <td>1.0</td>\n",
              "      <td>65.0</td>\n",
              "      <td>0.000000e+00</td>\n",
              "      <td>0.000000e+00</td>\n",
              "      <td>0.0</td>\n",
              "      <td>0.0</td>\n",
              "      <td>0.0</td>\n",
              "      <td>0.000000</td>\n",
              "      <td>0.0</td>\n",
              "      <td>0.0</td>\n",
              "      <td>0.0</td>\n",
              "      <td>0.0</td>\n",
              "      <td>0.0</td>\n",
              "      <td>0.0</td>\n",
              "      <td>0.0</td>\n",
              "      <td>66</td>\n",
              "      <td>0</td>\n",
              "    </tr>\n",
              "    <tr>\n",
              "      <th>2218484</th>\n",
              "      <td>1.513670e+04</td>\n",
              "      <td>8.762667e+03</td>\n",
              "      <td>1.0</td>\n",
              "      <td>26241.0</td>\n",
              "      <td>0.000000e+00</td>\n",
              "      <td>4.600000e+01</td>\n",
              "      <td>46.0</td>\n",
              "      <td>48.0</td>\n",
              "      <td>0.0</td>\n",
              "      <td>60.000000</td>\n",
              "      <td>48.0</td>\n",
              "      <td>48.0</td>\n",
              "      <td>48.0</td>\n",
              "      <td>0.0</td>\n",
              "      <td>48.0</td>\n",
              "      <td>48.0</td>\n",
              "      <td>48.0</td>\n",
              "      <td>26288</td>\n",
              "      <td>0</td>\n",
              "    </tr>\n",
              "    <tr>\n",
              "      <th>2218485</th>\n",
              "      <td>0.000000e+00</td>\n",
              "      <td>3.067900e+04</td>\n",
              "      <td>30679.0</td>\n",
              "      <td>30679.0</td>\n",
              "      <td>0.000000e+00</td>\n",
              "      <td>0.000000e+00</td>\n",
              "      <td>0.0</td>\n",
              "      <td>0.0</td>\n",
              "      <td>0.0</td>\n",
              "      <td>0.000000</td>\n",
              "      <td>0.0</td>\n",
              "      <td>0.0</td>\n",
              "      <td>0.0</td>\n",
              "      <td>0.0</td>\n",
              "      <td>0.0</td>\n",
              "      <td>0.0</td>\n",
              "      <td>0.0</td>\n",
              "      <td>30679</td>\n",
              "      <td>0</td>\n",
              "    </tr>\n",
              "    <tr>\n",
              "      <th>2218486</th>\n",
              "      <td>4.596194e+01</td>\n",
              "      <td>3.350000e+01</td>\n",
              "      <td>1.0</td>\n",
              "      <td>66.0</td>\n",
              "      <td>0.000000e+00</td>\n",
              "      <td>0.000000e+00</td>\n",
              "      <td>0.0</td>\n",
              "      <td>0.0</td>\n",
              "      <td>0.0</td>\n",
              "      <td>0.000000</td>\n",
              "      <td>0.0</td>\n",
              "      <td>0.0</td>\n",
              "      <td>0.0</td>\n",
              "      <td>0.0</td>\n",
              "      <td>0.0</td>\n",
              "      <td>0.0</td>\n",
              "      <td>0.0</td>\n",
              "      <td>67</td>\n",
              "      <td>0</td>\n",
              "    </tr>\n",
              "  </tbody>\n",
              "</table>\n",
              "<p>2218487 rows × 19 columns</p>\n",
              "</div>"
            ],
            "text/plain": [
              "          Flow IAT Std   Flow IAT Mean  ...   Flow Duration  Label\n",
              "0         7.062714e+06    4.507987e+06  ...        36063894      1\n",
              "1         9.056967e+06    4.077397e+06  ...        44851366      1\n",
              "2         0.000000e+00    1.000000e+00  ...               1      1\n",
              "3         0.000000e+00    0.000000e+00  ...               0      1\n",
              "4         6.026604e+06    3.970163e+06  ...        35731470      1\n",
              "...                ...             ...  ...             ...    ...\n",
              "2218482   3.747666e+01    2.650000e+01  ...              53      0\n",
              "2218483   4.525483e+01    3.300000e+01  ...              66      0\n",
              "2218484   1.513670e+04    8.762667e+03  ...           26288      0\n",
              "2218485   0.000000e+00    3.067900e+04  ...           30679      0\n",
              "2218486   4.596194e+01    3.350000e+01  ...              67      0\n",
              "\n",
              "[2218487 rows x 19 columns]"
            ]
          },
          "metadata": {
            "tags": []
          },
          "execution_count": 11
        }
      ]
    },
    {
      "cell_type": "markdown",
      "metadata": {
        "id": "Ap5QE9v9Gl6e"
      },
      "source": [
        "### **Train set과 Test set split**"
      ]
    },
    {
      "cell_type": "code",
      "metadata": {
        "id": "86tsUt054tsK"
      },
      "source": [
        "from sklearn.model_selection import StratifiedShuffleSplit\n",
        "\n",
        "split = StratifiedShuffleSplit(n_splits=1, test_size=0.2, random_state=42)\n",
        "for train_index, test_index in split.split(ddos, ddos[\"Label\"]):\n",
        "    ddos_train_set = ddos.loc[train_index]\n",
        "    ddos_test_set = ddos.loc[test_index]"
      ],
      "execution_count": null,
      "outputs": []
    },
    {
      "cell_type": "code",
      "metadata": {
        "colab": {
          "base_uri": "https://localhost:8080/"
        },
        "id": "RdDuW4B45-qs",
        "outputId": "0dce781e-67ad-4056-ed42-1d737f03da5f"
      },
      "source": [
        "ddos_train_set[\"Label\"].value_counts() / len(ddos_train_set)"
      ],
      "execution_count": null,
      "outputs": [
        {
          "output_type": "execute_result",
          "data": {
            "text/plain": [
              "1    0.586616\n",
              "2    0.377573\n",
              "0    0.034967\n",
              "3    0.000844\n",
              "Name: Label, dtype: float64"
            ]
          },
          "metadata": {
            "tags": []
          },
          "execution_count": 13
        }
      ]
    },
    {
      "cell_type": "code",
      "metadata": {
        "colab": {
          "base_uri": "https://localhost:8080/"
        },
        "id": "dUvadhMYDP98",
        "outputId": "8e515e60-dbc7-4f8d-c7b9-0e1b0617a8e3"
      },
      "source": [
        "ddos_train_set[\"Label\"].value_counts() "
      ],
      "execution_count": null,
      "outputs": [
        {
          "output_type": "execute_result",
          "data": {
            "text/plain": [
              "1    1041120\n",
              "2     670112\n",
              "0      62059\n",
              "3       1498\n",
              "Name: Label, dtype: int64"
            ]
          },
          "metadata": {
            "tags": []
          },
          "execution_count": 14
        }
      ]
    },
    {
      "cell_type": "code",
      "metadata": {
        "colab": {
          "base_uri": "https://localhost:8080/"
        },
        "id": "56zilLCf6Jl1",
        "outputId": "a75b3da3-77c0-4fb7-faa8-ea2eb8232c03"
      },
      "source": [
        "ddos_test_set[\"Label\"].value_counts() / len(ddos_test_set)"
      ],
      "execution_count": null,
      "outputs": [
        {
          "output_type": "execute_result",
          "data": {
            "text/plain": [
              "1    0.586615\n",
              "2    0.377572\n",
              "0    0.034967\n",
              "3    0.000845\n",
              "Name: Label, dtype: float64"
            ]
          },
          "metadata": {
            "tags": []
          },
          "execution_count": 15
        }
      ]
    },
    {
      "cell_type": "code",
      "metadata": {
        "colab": {
          "base_uri": "https://localhost:8080/"
        },
        "id": "z6fhqGZFIauQ",
        "outputId": "a0a4fe1c-c3bc-4cdf-d66b-0cce49c57dae"
      },
      "source": [
        "ddos_test_set[\"Label\"].value_counts()"
      ],
      "execution_count": null,
      "outputs": [
        {
          "output_type": "execute_result",
          "data": {
            "text/plain": [
              "1    260280\n",
              "2    167528\n",
              "0     15515\n",
              "3       375\n",
              "Name: Label, dtype: int64"
            ]
          },
          "metadata": {
            "tags": []
          },
          "execution_count": 16
        }
      ]
    },
    {
      "cell_type": "markdown",
      "metadata": {
        "id": "fAg7yU0wGwMm"
      },
      "source": [
        "### **Train set 처리**"
      ]
    },
    {
      "cell_type": "code",
      "metadata": {
        "id": "m61a3_DG7nQd"
      },
      "source": [
        "ddos_train_labels = ddos_train_set[\"Label\"].copy()\n",
        "ddos_train = ddos_train_set.drop(\"Label\", axis=1) # drop labels for training set"
      ],
      "execution_count": null,
      "outputs": []
    },
    {
      "cell_type": "code",
      "metadata": {
        "colab": {
          "base_uri": "https://localhost:8080/",
          "height": 202
        },
        "id": "HsKdSoMg92UZ",
        "outputId": "b7750659-aaa2-498a-ec94-13a0205c0944"
      },
      "source": [
        "ddos_train_labels = pd.DataFrame(ddos_train_labels)\n",
        "ddos_train_labels['Label'] = ddos_train_labels['Label'].replace(0, 'BENIGN')\n",
        "ddos_train_labels['Label'] = ddos_train_labels['Label'].replace(1, 'Syn')\n",
        "ddos_train_labels['Label'] = ddos_train_labels['Label'].replace(2, 'UDP')\n",
        "ddos_train_labels['Label'] = ddos_train_labels['Label'].replace(3, 'UDPLag')\n",
        "ddos_train_labels.head()"
      ],
      "execution_count": null,
      "outputs": [
        {
          "output_type": "execute_result",
          "data": {
            "text/html": [
              "<div>\n",
              "<style scoped>\n",
              "    .dataframe tbody tr th:only-of-type {\n",
              "        vertical-align: middle;\n",
              "    }\n",
              "\n",
              "    .dataframe tbody tr th {\n",
              "        vertical-align: top;\n",
              "    }\n",
              "\n",
              "    .dataframe thead th {\n",
              "        text-align: right;\n",
              "    }\n",
              "</style>\n",
              "<table border=\"1\" class=\"dataframe\">\n",
              "  <thead>\n",
              "    <tr style=\"text-align: right;\">\n",
              "      <th></th>\n",
              "      <th>Label</th>\n",
              "    </tr>\n",
              "  </thead>\n",
              "  <tbody>\n",
              "    <tr>\n",
              "      <th>2116146</th>\n",
              "      <td>Syn</td>\n",
              "    </tr>\n",
              "    <tr>\n",
              "      <th>772963</th>\n",
              "      <td>UDP</td>\n",
              "    </tr>\n",
              "    <tr>\n",
              "      <th>138832</th>\n",
              "      <td>Syn</td>\n",
              "    </tr>\n",
              "    <tr>\n",
              "      <th>1432752</th>\n",
              "      <td>UDP</td>\n",
              "    </tr>\n",
              "    <tr>\n",
              "      <th>1764447</th>\n",
              "      <td>Syn</td>\n",
              "    </tr>\n",
              "  </tbody>\n",
              "</table>\n",
              "</div>"
            ],
            "text/plain": [
              "        Label\n",
              "2116146   Syn\n",
              "772963    UDP\n",
              "138832    Syn\n",
              "1432752   UDP\n",
              "1764447   Syn"
            ]
          },
          "metadata": {
            "tags": []
          },
          "execution_count": 18
        }
      ]
    },
    {
      "cell_type": "code",
      "metadata": {
        "colab": {
          "base_uri": "https://localhost:8080/",
          "height": 274
        },
        "id": "AAzXbnvc8FDz",
        "outputId": "bba22903-135b-453d-842e-dcf01a1cb1c5"
      },
      "source": [
        "ddos_train.head()"
      ],
      "execution_count": null,
      "outputs": [
        {
          "output_type": "execute_result",
          "data": {
            "text/html": [
              "<div>\n",
              "<style scoped>\n",
              "    .dataframe tbody tr th:only-of-type {\n",
              "        vertical-align: middle;\n",
              "    }\n",
              "\n",
              "    .dataframe tbody tr th {\n",
              "        vertical-align: top;\n",
              "    }\n",
              "\n",
              "    .dataframe thead th {\n",
              "        text-align: right;\n",
              "    }\n",
              "</style>\n",
              "<table border=\"1\" class=\"dataframe\">\n",
              "  <thead>\n",
              "    <tr style=\"text-align: right;\">\n",
              "      <th></th>\n",
              "      <th>Flow IAT Std</th>\n",
              "      <th>Flow IAT Mean</th>\n",
              "      <th>Flow IAT Min</th>\n",
              "      <th>Flow IAT Max</th>\n",
              "      <th>Fwd IAT Std</th>\n",
              "      <th>Fwd IAT Mean</th>\n",
              "      <th>Fwd IAT Max</th>\n",
              "      <th>Packet Length Mean</th>\n",
              "      <th>Packet Length Std</th>\n",
              "      <th>Average Packet Size</th>\n",
              "      <th>Min Packet Length</th>\n",
              "      <th>Fwd Packet Length Min</th>\n",
              "      <th>Fwd Packet Length Mean</th>\n",
              "      <th>Bwd Packet Length Std</th>\n",
              "      <th>Bwd Packet Length Max</th>\n",
              "      <th>Bwd Packet Length Mean</th>\n",
              "      <th>Avg Bwd Segment Size</th>\n",
              "      <th>Flow Duration</th>\n",
              "    </tr>\n",
              "  </thead>\n",
              "  <tbody>\n",
              "    <tr>\n",
              "      <th>2116146</th>\n",
              "      <td>4.135618e+01</td>\n",
              "      <td>2.633333e+01</td>\n",
              "      <td>0.0</td>\n",
              "      <td>74.0</td>\n",
              "      <td>0.000000e+00</td>\n",
              "      <td>7.400000e+01</td>\n",
              "      <td>74.0</td>\n",
              "      <td>6.0</td>\n",
              "      <td>0.000000</td>\n",
              "      <td>7.50</td>\n",
              "      <td>6.0</td>\n",
              "      <td>6.0</td>\n",
              "      <td>6.0</td>\n",
              "      <td>0.0</td>\n",
              "      <td>6.0</td>\n",
              "      <td>6.0</td>\n",
              "      <td>6.0</td>\n",
              "      <td>79</td>\n",
              "    </tr>\n",
              "    <tr>\n",
              "      <th>772963</th>\n",
              "      <td>6.230418e+04</td>\n",
              "      <td>3.597233e+04</td>\n",
              "      <td>1.0</td>\n",
              "      <td>107915.0</td>\n",
              "      <td>6.230418e+04</td>\n",
              "      <td>3.597233e+04</td>\n",
              "      <td>107915.0</td>\n",
              "      <td>353.6</td>\n",
              "      <td>32.315631</td>\n",
              "      <td>442.00</td>\n",
              "      <td>330.0</td>\n",
              "      <td>330.0</td>\n",
              "      <td>359.5</td>\n",
              "      <td>0.0</td>\n",
              "      <td>0.0</td>\n",
              "      <td>0.0</td>\n",
              "      <td>0.0</td>\n",
              "      <td>107917</td>\n",
              "    </tr>\n",
              "    <tr>\n",
              "      <th>138832</th>\n",
              "      <td>7.306527e+06</td>\n",
              "      <td>4.126471e+06</td>\n",
              "      <td>1.0</td>\n",
              "      <td>17784026.0</td>\n",
              "      <td>8.255839e+06</td>\n",
              "      <td>5.777059e+06</td>\n",
              "      <td>17784026.0</td>\n",
              "      <td>6.0</td>\n",
              "      <td>0.000000</td>\n",
              "      <td>6.75</td>\n",
              "      <td>6.0</td>\n",
              "      <td>6.0</td>\n",
              "      <td>6.0</td>\n",
              "      <td>0.0</td>\n",
              "      <td>6.0</td>\n",
              "      <td>6.0</td>\n",
              "      <td>6.0</td>\n",
              "      <td>28885294</td>\n",
              "    </tr>\n",
              "    <tr>\n",
              "      <th>1432752</th>\n",
              "      <td>0.000000e+00</td>\n",
              "      <td>1.000000e+00</td>\n",
              "      <td>1.0</td>\n",
              "      <td>1.0</td>\n",
              "      <td>0.000000e+00</td>\n",
              "      <td>1.000000e+00</td>\n",
              "      <td>1.0</td>\n",
              "      <td>383.0</td>\n",
              "      <td>0.000000</td>\n",
              "      <td>574.50</td>\n",
              "      <td>383.0</td>\n",
              "      <td>383.0</td>\n",
              "      <td>383.0</td>\n",
              "      <td>0.0</td>\n",
              "      <td>0.0</td>\n",
              "      <td>0.0</td>\n",
              "      <td>0.0</td>\n",
              "      <td>1</td>\n",
              "    </tr>\n",
              "    <tr>\n",
              "      <th>1764447</th>\n",
              "      <td>0.000000e+00</td>\n",
              "      <td>1.000000e+00</td>\n",
              "      <td>1.0</td>\n",
              "      <td>1.0</td>\n",
              "      <td>0.000000e+00</td>\n",
              "      <td>1.000000e+00</td>\n",
              "      <td>1.0</td>\n",
              "      <td>6.0</td>\n",
              "      <td>0.000000</td>\n",
              "      <td>9.00</td>\n",
              "      <td>6.0</td>\n",
              "      <td>6.0</td>\n",
              "      <td>6.0</td>\n",
              "      <td>0.0</td>\n",
              "      <td>0.0</td>\n",
              "      <td>0.0</td>\n",
              "      <td>0.0</td>\n",
              "      <td>1</td>\n",
              "    </tr>\n",
              "  </tbody>\n",
              "</table>\n",
              "</div>"
            ],
            "text/plain": [
              "          Flow IAT Std   Flow IAT Mean  ...   Avg Bwd Segment Size   Flow Duration\n",
              "2116146   4.135618e+01    2.633333e+01  ...                    6.0              79\n",
              "772963    6.230418e+04    3.597233e+04  ...                    0.0          107917\n",
              "138832    7.306527e+06    4.126471e+06  ...                    6.0        28885294\n",
              "1432752   0.000000e+00    1.000000e+00  ...                    0.0               1\n",
              "1764447   0.000000e+00    1.000000e+00  ...                    0.0               1\n",
              "\n",
              "[5 rows x 18 columns]"
            ]
          },
          "metadata": {
            "tags": []
          },
          "execution_count": 19
        }
      ]
    },
    {
      "cell_type": "markdown",
      "metadata": {
        "id": "7pQdveXNHKzu"
      },
      "source": [
        "**One hot 인코딩**"
      ]
    },
    {
      "cell_type": "code",
      "metadata": {
        "id": "tb9fejdTB5BG"
      },
      "source": [
        "ddos_train_labels = pd.get_dummies(ddos_train_labels[['Label']])"
      ],
      "execution_count": null,
      "outputs": []
    },
    {
      "cell_type": "code",
      "metadata": {
        "colab": {
          "base_uri": "https://localhost:8080/",
          "height": 202
        },
        "id": "UOG599o8C9h4",
        "outputId": "71575d77-1b2f-4353-bada-d7f70d3160ae"
      },
      "source": [
        "ddos_train_labels.head()"
      ],
      "execution_count": null,
      "outputs": [
        {
          "output_type": "execute_result",
          "data": {
            "text/html": [
              "<div>\n",
              "<style scoped>\n",
              "    .dataframe tbody tr th:only-of-type {\n",
              "        vertical-align: middle;\n",
              "    }\n",
              "\n",
              "    .dataframe tbody tr th {\n",
              "        vertical-align: top;\n",
              "    }\n",
              "\n",
              "    .dataframe thead th {\n",
              "        text-align: right;\n",
              "    }\n",
              "</style>\n",
              "<table border=\"1\" class=\"dataframe\">\n",
              "  <thead>\n",
              "    <tr style=\"text-align: right;\">\n",
              "      <th></th>\n",
              "      <th>Label_BENIGN</th>\n",
              "      <th>Label_Syn</th>\n",
              "      <th>Label_UDP</th>\n",
              "      <th>Label_UDPLag</th>\n",
              "    </tr>\n",
              "  </thead>\n",
              "  <tbody>\n",
              "    <tr>\n",
              "      <th>2116146</th>\n",
              "      <td>0</td>\n",
              "      <td>1</td>\n",
              "      <td>0</td>\n",
              "      <td>0</td>\n",
              "    </tr>\n",
              "    <tr>\n",
              "      <th>772963</th>\n",
              "      <td>0</td>\n",
              "      <td>0</td>\n",
              "      <td>1</td>\n",
              "      <td>0</td>\n",
              "    </tr>\n",
              "    <tr>\n",
              "      <th>138832</th>\n",
              "      <td>0</td>\n",
              "      <td>1</td>\n",
              "      <td>0</td>\n",
              "      <td>0</td>\n",
              "    </tr>\n",
              "    <tr>\n",
              "      <th>1432752</th>\n",
              "      <td>0</td>\n",
              "      <td>0</td>\n",
              "      <td>1</td>\n",
              "      <td>0</td>\n",
              "    </tr>\n",
              "    <tr>\n",
              "      <th>1764447</th>\n",
              "      <td>0</td>\n",
              "      <td>1</td>\n",
              "      <td>0</td>\n",
              "      <td>0</td>\n",
              "    </tr>\n",
              "  </tbody>\n",
              "</table>\n",
              "</div>"
            ],
            "text/plain": [
              "         Label_BENIGN  Label_Syn  Label_UDP  Label_UDPLag\n",
              "2116146             0          1          0             0\n",
              "772963              0          0          1             0\n",
              "138832              0          1          0             0\n",
              "1432752             0          0          1             0\n",
              "1764447             0          1          0             0"
            ]
          },
          "metadata": {
            "tags": []
          },
          "execution_count": 21
        }
      ]
    },
    {
      "cell_type": "code",
      "metadata": {
        "colab": {
          "base_uri": "https://localhost:8080/"
        },
        "id": "TFhEORXPCC8M",
        "outputId": "572da037-dc15-4285-aec0-380eed20e7d6"
      },
      "source": [
        "print(ddos_train_labels['Label_BENIGN'].sum())\n",
        "print(ddos_train_labels['Label_Syn'].sum())\n",
        "print(ddos_train_labels['Label_UDP'].sum())\n",
        "print(ddos_train_labels['Label_UDPLag'].sum())"
      ],
      "execution_count": null,
      "outputs": [
        {
          "output_type": "stream",
          "text": [
            "62059\n",
            "1041120\n",
            "670112\n",
            "1498\n"
          ],
          "name": "stdout"
        }
      ]
    },
    {
      "cell_type": "markdown",
      "metadata": {
        "id": "wcX9et_0F3qa"
      },
      "source": [
        "**StandardScaler**"
      ]
    },
    {
      "cell_type": "code",
      "metadata": {
        "id": "c_WJABFGDXeh"
      },
      "source": [
        "from sklearn.preprocessing import StandardScaler\n",
        "\n",
        "stds = StandardScaler()\n",
        "ddos_train_sc = stds.fit_transform(ddos_train)"
      ],
      "execution_count": null,
      "outputs": []
    },
    {
      "cell_type": "code",
      "metadata": {
        "colab": {
          "base_uri": "https://localhost:8080/",
          "height": 274
        },
        "id": "N5BJKGJTEhYM",
        "outputId": "0c278730-0b25-434d-be98-6ab855005851"
      },
      "source": [
        "ddos_train = pd.DataFrame(ddos_train_sc, index = ddos_train.index, columns=ddos_train.columns)\n",
        "ddos_train.head()"
      ],
      "execution_count": null,
      "outputs": [
        {
          "output_type": "execute_result",
          "data": {
            "text/html": [
              "<div>\n",
              "<style scoped>\n",
              "    .dataframe tbody tr th:only-of-type {\n",
              "        vertical-align: middle;\n",
              "    }\n",
              "\n",
              "    .dataframe tbody tr th {\n",
              "        vertical-align: top;\n",
              "    }\n",
              "\n",
              "    .dataframe thead th {\n",
              "        text-align: right;\n",
              "    }\n",
              "</style>\n",
              "<table border=\"1\" class=\"dataframe\">\n",
              "  <thead>\n",
              "    <tr style=\"text-align: right;\">\n",
              "      <th></th>\n",
              "      <th>Flow IAT Std</th>\n",
              "      <th>Flow IAT Mean</th>\n",
              "      <th>Flow IAT Min</th>\n",
              "      <th>Flow IAT Max</th>\n",
              "      <th>Fwd IAT Std</th>\n",
              "      <th>Fwd IAT Mean</th>\n",
              "      <th>Fwd IAT Max</th>\n",
              "      <th>Packet Length Mean</th>\n",
              "      <th>Packet Length Std</th>\n",
              "      <th>Average Packet Size</th>\n",
              "      <th>Min Packet Length</th>\n",
              "      <th>Fwd Packet Length Min</th>\n",
              "      <th>Fwd Packet Length Mean</th>\n",
              "      <th>Bwd Packet Length Std</th>\n",
              "      <th>Bwd Packet Length Max</th>\n",
              "      <th>Bwd Packet Length Mean</th>\n",
              "      <th>Avg Bwd Segment Size</th>\n",
              "      <th>Flow Duration</th>\n",
              "    </tr>\n",
              "  </thead>\n",
              "  <tbody>\n",
              "    <tr>\n",
              "      <th>2116146</th>\n",
              "      <td>-0.306231</td>\n",
              "      <td>-0.298610</td>\n",
              "      <td>-0.008099</td>\n",
              "      <td>-0.296523</td>\n",
              "      <td>-0.305430</td>\n",
              "      <td>-0.309428</td>\n",
              "      <td>-0.295700</td>\n",
              "      <td>-0.789456</td>\n",
              "      <td>-0.204042</td>\n",
              "      <td>-0.777282</td>\n",
              "      <td>-0.777553</td>\n",
              "      <td>-0.777137</td>\n",
              "      <td>-0.786597</td>\n",
              "      <td>-0.069896</td>\n",
              "      <td>-0.046098</td>\n",
              "      <td>0.015738</td>\n",
              "      <td>0.015738</td>\n",
              "      <td>-0.299533</td>\n",
              "    </tr>\n",
              "    <tr>\n",
              "      <th>772963</th>\n",
              "      <td>-0.278886</td>\n",
              "      <td>-0.272302</td>\n",
              "      <td>-0.008093</td>\n",
              "      <td>-0.279570</td>\n",
              "      <td>-0.280968</td>\n",
              "      <td>-0.289112</td>\n",
              "      <td>-0.278742</td>\n",
              "      <td>1.160697</td>\n",
              "      <td>0.530260</td>\n",
              "      <td>0.984192</td>\n",
              "      <td>1.098242</td>\n",
              "      <td>1.096737</td>\n",
              "      <td>1.195227</td>\n",
              "      <td>-0.069896</td>\n",
              "      <td>-0.084646</td>\n",
              "      <td>-0.108524</td>\n",
              "      <td>-0.108524</td>\n",
              "      <td>-0.292657</td>\n",
              "    </tr>\n",
              "    <tr>\n",
              "      <th>138832</th>\n",
              "      <td>2.902671</td>\n",
              "      <td>2.721360</td>\n",
              "      <td>-0.008093</td>\n",
              "      <td>2.499281</td>\n",
              "      <td>2.936045</td>\n",
              "      <td>2.960004</td>\n",
              "      <td>2.500823</td>\n",
              "      <td>-0.789456</td>\n",
              "      <td>-0.204042</td>\n",
              "      <td>-0.780322</td>\n",
              "      <td>-0.777553</td>\n",
              "      <td>-0.777137</td>\n",
              "      <td>-0.786597</td>\n",
              "      <td>-0.069896</td>\n",
              "      <td>-0.046098</td>\n",
              "      <td>0.015738</td>\n",
              "      <td>0.015738</td>\n",
              "      <td>1.542442</td>\n",
              "    </tr>\n",
              "    <tr>\n",
              "      <th>1432752</th>\n",
              "      <td>-0.306249</td>\n",
              "      <td>-0.298628</td>\n",
              "      <td>-0.008093</td>\n",
              "      <td>-0.296535</td>\n",
              "      <td>-0.305430</td>\n",
              "      <td>-0.309469</td>\n",
              "      <td>-0.295711</td>\n",
              "      <td>1.325641</td>\n",
              "      <td>-0.204042</td>\n",
              "      <td>1.521351</td>\n",
              "      <td>1.405085</td>\n",
              "      <td>1.403266</td>\n",
              "      <td>1.326975</td>\n",
              "      <td>-0.069896</td>\n",
              "      <td>-0.084646</td>\n",
              "      <td>-0.108524</td>\n",
              "      <td>-0.108524</td>\n",
              "      <td>-0.299538</td>\n",
              "    </tr>\n",
              "    <tr>\n",
              "      <th>1764447</th>\n",
              "      <td>-0.306249</td>\n",
              "      <td>-0.298628</td>\n",
              "      <td>-0.008093</td>\n",
              "      <td>-0.296535</td>\n",
              "      <td>-0.305430</td>\n",
              "      <td>-0.309469</td>\n",
              "      <td>-0.295711</td>\n",
              "      <td>-0.789456</td>\n",
              "      <td>-0.204042</td>\n",
              "      <td>-0.771201</td>\n",
              "      <td>-0.777553</td>\n",
              "      <td>-0.777137</td>\n",
              "      <td>-0.786597</td>\n",
              "      <td>-0.069896</td>\n",
              "      <td>-0.084646</td>\n",
              "      <td>-0.108524</td>\n",
              "      <td>-0.108524</td>\n",
              "      <td>-0.299538</td>\n",
              "    </tr>\n",
              "  </tbody>\n",
              "</table>\n",
              "</div>"
            ],
            "text/plain": [
              "          Flow IAT Std   Flow IAT Mean  ...   Avg Bwd Segment Size   Flow Duration\n",
              "2116146      -0.306231       -0.298610  ...               0.015738       -0.299533\n",
              "772963       -0.278886       -0.272302  ...              -0.108524       -0.292657\n",
              "138832        2.902671        2.721360  ...               0.015738        1.542442\n",
              "1432752      -0.306249       -0.298628  ...              -0.108524       -0.299538\n",
              "1764447      -0.306249       -0.298628  ...              -0.108524       -0.299538\n",
              "\n",
              "[5 rows x 18 columns]"
            ]
          },
          "metadata": {
            "tags": []
          },
          "execution_count": 24
        }
      ]
    },
    {
      "cell_type": "markdown",
      "metadata": {
        "id": "yTcmPTBrGDwi"
      },
      "source": [
        "## **Test set 처리**"
      ]
    },
    {
      "cell_type": "code",
      "metadata": {
        "id": "gm5ILKDvGDXo"
      },
      "source": [
        "ddos_test_labels = ddos_test_set[\"Label\"].copy()\n",
        "ddos_test = ddos_test_set.drop(\"Label\", axis=1) # drop labels for training set"
      ],
      "execution_count": null,
      "outputs": []
    },
    {
      "cell_type": "code",
      "metadata": {
        "colab": {
          "base_uri": "https://localhost:8080/",
          "height": 202
        },
        "id": "X_53rVHZHmad",
        "outputId": "f87397d7-d430-4c37-9ee7-7ccaa800ee62"
      },
      "source": [
        "ddos_test_labels = pd.DataFrame(ddos_test_labels)\n",
        "ddos_test_labels['Label'] = ddos_test_labels['Label'].replace(0, 'BENIGN')\n",
        "ddos_test_labels['Label'] = ddos_test_labels['Label'].replace(1, 'Syn')\n",
        "ddos_test_labels['Label'] = ddos_test_labels['Label'].replace(2, 'UDP')\n",
        "ddos_test_labels['Label'] = ddos_test_labels['Label'].replace(3, 'UDPLag')\n",
        "ddos_test_labels.head()"
      ],
      "execution_count": null,
      "outputs": [
        {
          "output_type": "execute_result",
          "data": {
            "text/html": [
              "<div>\n",
              "<style scoped>\n",
              "    .dataframe tbody tr th:only-of-type {\n",
              "        vertical-align: middle;\n",
              "    }\n",
              "\n",
              "    .dataframe tbody tr th {\n",
              "        vertical-align: top;\n",
              "    }\n",
              "\n",
              "    .dataframe thead th {\n",
              "        text-align: right;\n",
              "    }\n",
              "</style>\n",
              "<table border=\"1\" class=\"dataframe\">\n",
              "  <thead>\n",
              "    <tr style=\"text-align: right;\">\n",
              "      <th></th>\n",
              "      <th>Label</th>\n",
              "    </tr>\n",
              "  </thead>\n",
              "  <tbody>\n",
              "    <tr>\n",
              "      <th>482221</th>\n",
              "      <td>BENIGN</td>\n",
              "    </tr>\n",
              "    <tr>\n",
              "      <th>232502</th>\n",
              "      <td>Syn</td>\n",
              "    </tr>\n",
              "    <tr>\n",
              "      <th>872460</th>\n",
              "      <td>UDP</td>\n",
              "    </tr>\n",
              "    <tr>\n",
              "      <th>372664</th>\n",
              "      <td>Syn</td>\n",
              "    </tr>\n",
              "    <tr>\n",
              "      <th>1136522</th>\n",
              "      <td>UDP</td>\n",
              "    </tr>\n",
              "  </tbody>\n",
              "</table>\n",
              "</div>"
            ],
            "text/plain": [
              "          Label\n",
              "482221   BENIGN\n",
              "232502      Syn\n",
              "872460      UDP\n",
              "372664      Syn\n",
              "1136522     UDP"
            ]
          },
          "metadata": {
            "tags": []
          },
          "execution_count": 26
        }
      ]
    },
    {
      "cell_type": "code",
      "metadata": {
        "colab": {
          "base_uri": "https://localhost:8080/",
          "height": 274
        },
        "id": "zar9Qn9yHwqL",
        "outputId": "5e9c33c0-be72-4d7a-edce-77c6ae362089"
      },
      "source": [
        "ddos_test.head()"
      ],
      "execution_count": null,
      "outputs": [
        {
          "output_type": "execute_result",
          "data": {
            "text/html": [
              "<div>\n",
              "<style scoped>\n",
              "    .dataframe tbody tr th:only-of-type {\n",
              "        vertical-align: middle;\n",
              "    }\n",
              "\n",
              "    .dataframe tbody tr th {\n",
              "        vertical-align: top;\n",
              "    }\n",
              "\n",
              "    .dataframe thead th {\n",
              "        text-align: right;\n",
              "    }\n",
              "</style>\n",
              "<table border=\"1\" class=\"dataframe\">\n",
              "  <thead>\n",
              "    <tr style=\"text-align: right;\">\n",
              "      <th></th>\n",
              "      <th>Flow IAT Std</th>\n",
              "      <th>Flow IAT Mean</th>\n",
              "      <th>Flow IAT Min</th>\n",
              "      <th>Flow IAT Max</th>\n",
              "      <th>Fwd IAT Std</th>\n",
              "      <th>Fwd IAT Mean</th>\n",
              "      <th>Fwd IAT Max</th>\n",
              "      <th>Packet Length Mean</th>\n",
              "      <th>Packet Length Std</th>\n",
              "      <th>Average Packet Size</th>\n",
              "      <th>Min Packet Length</th>\n",
              "      <th>Fwd Packet Length Min</th>\n",
              "      <th>Fwd Packet Length Mean</th>\n",
              "      <th>Bwd Packet Length Std</th>\n",
              "      <th>Bwd Packet Length Max</th>\n",
              "      <th>Bwd Packet Length Mean</th>\n",
              "      <th>Avg Bwd Segment Size</th>\n",
              "      <th>Flow Duration</th>\n",
              "    </tr>\n",
              "  </thead>\n",
              "  <tbody>\n",
              "    <tr>\n",
              "      <th>482221</th>\n",
              "      <td>101.823376</td>\n",
              "      <td>74.000000</td>\n",
              "      <td>2.0</td>\n",
              "      <td>146.0</td>\n",
              "      <td>0.0</td>\n",
              "      <td>0.0</td>\n",
              "      <td>0.0</td>\n",
              "      <td>6.0</td>\n",
              "      <td>0.0</td>\n",
              "      <td>8.0</td>\n",
              "      <td>6.0</td>\n",
              "      <td>6.0</td>\n",
              "      <td>6.0</td>\n",
              "      <td>0.0</td>\n",
              "      <td>6.0</td>\n",
              "      <td>6.0</td>\n",
              "      <td>6.0</td>\n",
              "      <td>148</td>\n",
              "    </tr>\n",
              "    <tr>\n",
              "      <th>232502</th>\n",
              "      <td>26.558112</td>\n",
              "      <td>16.333333</td>\n",
              "      <td>1.0</td>\n",
              "      <td>47.0</td>\n",
              "      <td>0.0</td>\n",
              "      <td>1.0</td>\n",
              "      <td>1.0</td>\n",
              "      <td>6.0</td>\n",
              "      <td>0.0</td>\n",
              "      <td>7.5</td>\n",
              "      <td>6.0</td>\n",
              "      <td>6.0</td>\n",
              "      <td>6.0</td>\n",
              "      <td>0.0</td>\n",
              "      <td>6.0</td>\n",
              "      <td>6.0</td>\n",
              "      <td>6.0</td>\n",
              "      <td>49</td>\n",
              "    </tr>\n",
              "    <tr>\n",
              "      <th>872460</th>\n",
              "      <td>0.000000</td>\n",
              "      <td>1.000000</td>\n",
              "      <td>1.0</td>\n",
              "      <td>1.0</td>\n",
              "      <td>0.0</td>\n",
              "      <td>1.0</td>\n",
              "      <td>1.0</td>\n",
              "      <td>375.0</td>\n",
              "      <td>0.0</td>\n",
              "      <td>562.5</td>\n",
              "      <td>375.0</td>\n",
              "      <td>375.0</td>\n",
              "      <td>375.0</td>\n",
              "      <td>0.0</td>\n",
              "      <td>0.0</td>\n",
              "      <td>0.0</td>\n",
              "      <td>0.0</td>\n",
              "      <td>1</td>\n",
              "    </tr>\n",
              "    <tr>\n",
              "      <th>372664</th>\n",
              "      <td>0.000000</td>\n",
              "      <td>1.000000</td>\n",
              "      <td>1.0</td>\n",
              "      <td>1.0</td>\n",
              "      <td>0.0</td>\n",
              "      <td>1.0</td>\n",
              "      <td>1.0</td>\n",
              "      <td>6.0</td>\n",
              "      <td>0.0</td>\n",
              "      <td>9.0</td>\n",
              "      <td>6.0</td>\n",
              "      <td>6.0</td>\n",
              "      <td>6.0</td>\n",
              "      <td>0.0</td>\n",
              "      <td>0.0</td>\n",
              "      <td>0.0</td>\n",
              "      <td>0.0</td>\n",
              "      <td>1</td>\n",
              "    </tr>\n",
              "    <tr>\n",
              "      <th>1136522</th>\n",
              "      <td>0.000000</td>\n",
              "      <td>1.000000</td>\n",
              "      <td>1.0</td>\n",
              "      <td>1.0</td>\n",
              "      <td>0.0</td>\n",
              "      <td>1.0</td>\n",
              "      <td>1.0</td>\n",
              "      <td>383.0</td>\n",
              "      <td>0.0</td>\n",
              "      <td>574.5</td>\n",
              "      <td>383.0</td>\n",
              "      <td>383.0</td>\n",
              "      <td>383.0</td>\n",
              "      <td>0.0</td>\n",
              "      <td>0.0</td>\n",
              "      <td>0.0</td>\n",
              "      <td>0.0</td>\n",
              "      <td>1</td>\n",
              "    </tr>\n",
              "  </tbody>\n",
              "</table>\n",
              "</div>"
            ],
            "text/plain": [
              "          Flow IAT Std   Flow IAT Mean  ...   Avg Bwd Segment Size   Flow Duration\n",
              "482221      101.823376       74.000000  ...                    6.0             148\n",
              "232502       26.558112       16.333333  ...                    6.0              49\n",
              "872460        0.000000        1.000000  ...                    0.0               1\n",
              "372664        0.000000        1.000000  ...                    0.0               1\n",
              "1136522       0.000000        1.000000  ...                    0.0               1\n",
              "\n",
              "[5 rows x 18 columns]"
            ]
          },
          "metadata": {
            "tags": []
          },
          "execution_count": 27
        }
      ]
    },
    {
      "cell_type": "markdown",
      "metadata": {
        "id": "zsz2LHGJH4n0"
      },
      "source": [
        "**One hot 인코딩**"
      ]
    },
    {
      "cell_type": "code",
      "metadata": {
        "id": "UKXlruiPIAG1"
      },
      "source": [
        "ddos_test_labels = pd.get_dummies(ddos_test_labels[['Label']])"
      ],
      "execution_count": null,
      "outputs": []
    },
    {
      "cell_type": "code",
      "metadata": {
        "colab": {
          "base_uri": "https://localhost:8080/",
          "height": 202
        },
        "id": "Ex0ZKRXKIDz5",
        "outputId": "66c9277f-f12e-46f5-fb24-082716aea274"
      },
      "source": [
        "ddos_test_labels.head()"
      ],
      "execution_count": null,
      "outputs": [
        {
          "output_type": "execute_result",
          "data": {
            "text/html": [
              "<div>\n",
              "<style scoped>\n",
              "    .dataframe tbody tr th:only-of-type {\n",
              "        vertical-align: middle;\n",
              "    }\n",
              "\n",
              "    .dataframe tbody tr th {\n",
              "        vertical-align: top;\n",
              "    }\n",
              "\n",
              "    .dataframe thead th {\n",
              "        text-align: right;\n",
              "    }\n",
              "</style>\n",
              "<table border=\"1\" class=\"dataframe\">\n",
              "  <thead>\n",
              "    <tr style=\"text-align: right;\">\n",
              "      <th></th>\n",
              "      <th>Label_BENIGN</th>\n",
              "      <th>Label_Syn</th>\n",
              "      <th>Label_UDP</th>\n",
              "      <th>Label_UDPLag</th>\n",
              "    </tr>\n",
              "  </thead>\n",
              "  <tbody>\n",
              "    <tr>\n",
              "      <th>482221</th>\n",
              "      <td>1</td>\n",
              "      <td>0</td>\n",
              "      <td>0</td>\n",
              "      <td>0</td>\n",
              "    </tr>\n",
              "    <tr>\n",
              "      <th>232502</th>\n",
              "      <td>0</td>\n",
              "      <td>1</td>\n",
              "      <td>0</td>\n",
              "      <td>0</td>\n",
              "    </tr>\n",
              "    <tr>\n",
              "      <th>872460</th>\n",
              "      <td>0</td>\n",
              "      <td>0</td>\n",
              "      <td>1</td>\n",
              "      <td>0</td>\n",
              "    </tr>\n",
              "    <tr>\n",
              "      <th>372664</th>\n",
              "      <td>0</td>\n",
              "      <td>1</td>\n",
              "      <td>0</td>\n",
              "      <td>0</td>\n",
              "    </tr>\n",
              "    <tr>\n",
              "      <th>1136522</th>\n",
              "      <td>0</td>\n",
              "      <td>0</td>\n",
              "      <td>1</td>\n",
              "      <td>0</td>\n",
              "    </tr>\n",
              "  </tbody>\n",
              "</table>\n",
              "</div>"
            ],
            "text/plain": [
              "         Label_BENIGN  Label_Syn  Label_UDP  Label_UDPLag\n",
              "482221              1          0          0             0\n",
              "232502              0          1          0             0\n",
              "872460              0          0          1             0\n",
              "372664              0          1          0             0\n",
              "1136522             0          0          1             0"
            ]
          },
          "metadata": {
            "tags": []
          },
          "execution_count": 29
        }
      ]
    },
    {
      "cell_type": "code",
      "metadata": {
        "colab": {
          "base_uri": "https://localhost:8080/"
        },
        "id": "Jy4mqR65Iisw",
        "outputId": "73a37197-2e34-4b69-90ea-be42b1b9dfb1"
      },
      "source": [
        "print(ddos_test_labels['Label_BENIGN'].sum())\n",
        "print(ddos_test_labels['Label_Syn'].sum())\n",
        "print(ddos_test_labels['Label_UDP'].sum())\n",
        "print(ddos_test_labels['Label_UDPLag'].sum())"
      ],
      "execution_count": null,
      "outputs": [
        {
          "output_type": "stream",
          "text": [
            "15515\n",
            "260280\n",
            "167528\n",
            "375\n"
          ],
          "name": "stdout"
        }
      ]
    },
    {
      "cell_type": "markdown",
      "metadata": {
        "id": "63Q8BsYzIw7o"
      },
      "source": [
        "**StandardScaler**"
      ]
    },
    {
      "cell_type": "code",
      "metadata": {
        "id": "To9zUJdTIoWO"
      },
      "source": [
        "from sklearn.preprocessing import StandardScaler\n",
        "\n",
        "stds = StandardScaler()\n",
        "ddos_test_sc = stds.fit_transform(ddos_test)"
      ],
      "execution_count": null,
      "outputs": []
    },
    {
      "cell_type": "code",
      "metadata": {
        "colab": {
          "base_uri": "https://localhost:8080/",
          "height": 274
        },
        "id": "IlaZMXiGI0Ke",
        "outputId": "3bd4ce39-044c-4dcf-f32a-a7c9c84ee746"
      },
      "source": [
        "ddos_test = pd.DataFrame(ddos_test_sc, index = ddos_test.index, columns=ddos_test.columns)\n",
        "ddos_test.head()"
      ],
      "execution_count": null,
      "outputs": [
        {
          "output_type": "execute_result",
          "data": {
            "text/html": [
              "<div>\n",
              "<style scoped>\n",
              "    .dataframe tbody tr th:only-of-type {\n",
              "        vertical-align: middle;\n",
              "    }\n",
              "\n",
              "    .dataframe tbody tr th {\n",
              "        vertical-align: top;\n",
              "    }\n",
              "\n",
              "    .dataframe thead th {\n",
              "        text-align: right;\n",
              "    }\n",
              "</style>\n",
              "<table border=\"1\" class=\"dataframe\">\n",
              "  <thead>\n",
              "    <tr style=\"text-align: right;\">\n",
              "      <th></th>\n",
              "      <th>Flow IAT Std</th>\n",
              "      <th>Flow IAT Mean</th>\n",
              "      <th>Flow IAT Min</th>\n",
              "      <th>Flow IAT Max</th>\n",
              "      <th>Fwd IAT Std</th>\n",
              "      <th>Fwd IAT Mean</th>\n",
              "      <th>Fwd IAT Max</th>\n",
              "      <th>Packet Length Mean</th>\n",
              "      <th>Packet Length Std</th>\n",
              "      <th>Average Packet Size</th>\n",
              "      <th>Min Packet Length</th>\n",
              "      <th>Fwd Packet Length Min</th>\n",
              "      <th>Fwd Packet Length Mean</th>\n",
              "      <th>Bwd Packet Length Std</th>\n",
              "      <th>Bwd Packet Length Max</th>\n",
              "      <th>Bwd Packet Length Mean</th>\n",
              "      <th>Avg Bwd Segment Size</th>\n",
              "      <th>Flow Duration</th>\n",
              "    </tr>\n",
              "  </thead>\n",
              "  <tbody>\n",
              "    <tr>\n",
              "      <th>482221</th>\n",
              "      <td>-0.306290</td>\n",
              "      <td>-0.298046</td>\n",
              "      <td>-0.008716</td>\n",
              "      <td>-0.295875</td>\n",
              "      <td>-0.305263</td>\n",
              "      <td>-0.308980</td>\n",
              "      <td>-0.295063</td>\n",
              "      <td>-0.789371</td>\n",
              "      <td>-0.203555</td>\n",
              "      <td>-0.775256</td>\n",
              "      <td>-0.777541</td>\n",
              "      <td>-0.776828</td>\n",
              "      <td>-0.786349</td>\n",
              "      <td>-0.070041</td>\n",
              "      <td>-0.045971</td>\n",
              "      <td>0.015066</td>\n",
              "      <td>0.015066</td>\n",
              "      <td>-0.299069</td>\n",
              "    </tr>\n",
              "    <tr>\n",
              "      <th>232502</th>\n",
              "      <td>-0.306323</td>\n",
              "      <td>-0.298088</td>\n",
              "      <td>-0.008721</td>\n",
              "      <td>-0.295890</td>\n",
              "      <td>-0.305263</td>\n",
              "      <td>-0.308979</td>\n",
              "      <td>-0.295062</td>\n",
              "      <td>-0.789371</td>\n",
              "      <td>-0.203555</td>\n",
              "      <td>-0.777284</td>\n",
              "      <td>-0.777541</td>\n",
              "      <td>-0.776828</td>\n",
              "      <td>-0.786349</td>\n",
              "      <td>-0.070041</td>\n",
              "      <td>-0.045971</td>\n",
              "      <td>0.015066</td>\n",
              "      <td>0.015066</td>\n",
              "      <td>-0.299075</td>\n",
              "    </tr>\n",
              "    <tr>\n",
              "      <th>872460</th>\n",
              "      <td>-0.306334</td>\n",
              "      <td>-0.298099</td>\n",
              "      <td>-0.008721</td>\n",
              "      <td>-0.295897</td>\n",
              "      <td>-0.305263</td>\n",
              "      <td>-0.308979</td>\n",
              "      <td>-0.295062</td>\n",
              "      <td>1.280703</td>\n",
              "      <td>-0.203555</td>\n",
              "      <td>1.473237</td>\n",
              "      <td>1.359377</td>\n",
              "      <td>1.356830</td>\n",
              "      <td>1.281789</td>\n",
              "      <td>-0.070041</td>\n",
              "      <td>-0.084685</td>\n",
              "      <td>-0.107940</td>\n",
              "      <td>-0.107940</td>\n",
              "      <td>-0.299079</td>\n",
              "    </tr>\n",
              "    <tr>\n",
              "      <th>372664</th>\n",
              "      <td>-0.306334</td>\n",
              "      <td>-0.298099</td>\n",
              "      <td>-0.008721</td>\n",
              "      <td>-0.295897</td>\n",
              "      <td>-0.305263</td>\n",
              "      <td>-0.308979</td>\n",
              "      <td>-0.295062</td>\n",
              "      <td>-0.789371</td>\n",
              "      <td>-0.203555</td>\n",
              "      <td>-0.771201</td>\n",
              "      <td>-0.777541</td>\n",
              "      <td>-0.776828</td>\n",
              "      <td>-0.786349</td>\n",
              "      <td>-0.070041</td>\n",
              "      <td>-0.084685</td>\n",
              "      <td>-0.107940</td>\n",
              "      <td>-0.107940</td>\n",
              "      <td>-0.299079</td>\n",
              "    </tr>\n",
              "    <tr>\n",
              "      <th>1136522</th>\n",
              "      <td>-0.306334</td>\n",
              "      <td>-0.298099</td>\n",
              "      <td>-0.008721</td>\n",
              "      <td>-0.295897</td>\n",
              "      <td>-0.305263</td>\n",
              "      <td>-0.308979</td>\n",
              "      <td>-0.295062</td>\n",
              "      <td>1.325583</td>\n",
              "      <td>-0.203555</td>\n",
              "      <td>1.521897</td>\n",
              "      <td>1.405706</td>\n",
              "      <td>1.403088</td>\n",
              "      <td>1.326627</td>\n",
              "      <td>-0.070041</td>\n",
              "      <td>-0.084685</td>\n",
              "      <td>-0.107940</td>\n",
              "      <td>-0.107940</td>\n",
              "      <td>-0.299079</td>\n",
              "    </tr>\n",
              "  </tbody>\n",
              "</table>\n",
              "</div>"
            ],
            "text/plain": [
              "          Flow IAT Std   Flow IAT Mean  ...   Avg Bwd Segment Size   Flow Duration\n",
              "482221       -0.306290       -0.298046  ...               0.015066       -0.299069\n",
              "232502       -0.306323       -0.298088  ...               0.015066       -0.299075\n",
              "872460       -0.306334       -0.298099  ...              -0.107940       -0.299079\n",
              "372664       -0.306334       -0.298099  ...              -0.107940       -0.299079\n",
              "1136522      -0.306334       -0.298099  ...              -0.107940       -0.299079\n",
              "\n",
              "[5 rows x 18 columns]"
            ]
          },
          "metadata": {
            "tags": []
          },
          "execution_count": 32
        }
      ]
    },
    {
      "cell_type": "markdown",
      "metadata": {
        "id": "vyKZayOMa1-8"
      },
      "source": [
        "# **Classification**"
      ]
    },
    {
      "cell_type": "markdown",
      "metadata": {
        "id": "w5Jb632oa_dw"
      },
      "source": [
        "### **MLP**"
      ]
    },
    {
      "cell_type": "code",
      "metadata": {
        "colab": {
          "base_uri": "https://localhost:8080/"
        },
        "id": "DxNOSCU9hSbs",
        "outputId": "227a0dad-1b1b-4c6e-936f-49afad757fce"
      },
      "source": [
        "from sklearn.model_selection import GridSearchCV\n",
        "from sklearn.model_selection import cross_val_score\n",
        "from sklearn.neural_network import MLPClassifier\n",
        "\n",
        "param_grid = [\n",
        "    {'hidden_layer_sizes': [(10, 10), (15, 15), (20, 20)], 'max_iter': [20]},\n",
        "  ]\n",
        "\n",
        "MLPC = MLPClassifier(random_state=42)\n",
        "grid_search = GridSearchCV(MLPC, param_grid, cv=5,\n",
        "                           scoring='neg_mean_squared_error',\n",
        "                           return_train_score=True)\n",
        "grid_search.fit(ddos_train, ddos_train_labels)"
      ],
      "execution_count": null,
      "outputs": [
        {
          "output_type": "execute_result",
          "data": {
            "text/plain": [
              "GridSearchCV(cv=5, error_score=nan,\n",
              "             estimator=MLPClassifier(activation='relu', alpha=0.0001,\n",
              "                                     batch_size='auto', beta_1=0.9,\n",
              "                                     beta_2=0.999, early_stopping=False,\n",
              "                                     epsilon=1e-08, hidden_layer_sizes=(100,),\n",
              "                                     learning_rate='constant',\n",
              "                                     learning_rate_init=0.001, max_fun=15000,\n",
              "                                     max_iter=200, momentum=0.9,\n",
              "                                     n_iter_no_change=10,\n",
              "                                     nesterovs_momentum=True, power_t=0.5,\n",
              "                                     random_state=42, shuffle=True,\n",
              "                                     solver='adam', tol=0.0001,\n",
              "                                     validation_fraction=0.1, verbose=False,\n",
              "                                     warm_start=False),\n",
              "             iid='deprecated', n_jobs=None,\n",
              "             param_grid=[{'hidden_layer_sizes': [(10, 10), (15, 15), (20, 20)],\n",
              "                          'max_iter': [20]}],\n",
              "             pre_dispatch='2*n_jobs', refit=True, return_train_score=True,\n",
              "             scoring='neg_mean_squared_error', verbose=0)"
            ]
          },
          "metadata": {
            "tags": []
          },
          "execution_count": 33
        }
      ]
    },
    {
      "cell_type": "code",
      "metadata": {
        "id": "jJP3PBBcmD3N",
        "colab": {
          "base_uri": "https://localhost:8080/"
        },
        "outputId": "f0774773-b06c-4991-94e4-20cc455670fc"
      },
      "source": [
        "grid_search.best_params_"
      ],
      "execution_count": null,
      "outputs": [
        {
          "output_type": "execute_result",
          "data": {
            "text/plain": [
              "{'hidden_layer_sizes': (20, 20), 'max_iter': 20}"
            ]
          },
          "metadata": {
            "tags": []
          },
          "execution_count": 34
        }
      ]
    },
    {
      "cell_type": "code",
      "metadata": {
        "id": "pkjaAWwcmHC8",
        "colab": {
          "base_uri": "https://localhost:8080/"
        },
        "outputId": "b2dac9d2-c254-467a-ee72-cb5eefe3268e"
      },
      "source": [
        "grid_search.best_estimator_"
      ],
      "execution_count": null,
      "outputs": [
        {
          "output_type": "execute_result",
          "data": {
            "text/plain": [
              "MLPClassifier(activation='relu', alpha=0.0001, batch_size='auto', beta_1=0.9,\n",
              "              beta_2=0.999, early_stopping=False, epsilon=1e-08,\n",
              "              hidden_layer_sizes=(20, 20), learning_rate='constant',\n",
              "              learning_rate_init=0.001, max_fun=15000, max_iter=20,\n",
              "              momentum=0.9, n_iter_no_change=10, nesterovs_momentum=True,\n",
              "              power_t=0.5, random_state=42, shuffle=True, solver='adam',\n",
              "              tol=0.0001, validation_fraction=0.1, verbose=False,\n",
              "              warm_start=False)"
            ]
          },
          "metadata": {
            "tags": []
          },
          "execution_count": 35
        }
      ]
    },
    {
      "cell_type": "code",
      "metadata": {
        "id": "nx7AiQuxmLyh",
        "colab": {
          "base_uri": "https://localhost:8080/"
        },
        "outputId": "58fecfba-4b5d-44d5-9cbd-94b894a9a1a8"
      },
      "source": [
        "cvres = grid_search.cv_results_\n",
        "for mean_score, params in zip(cvres[\"mean_test_score\"], cvres[\"params\"]):\n",
        "    print(np.sqrt(-mean_score), params)"
      ],
      "execution_count": null,
      "outputs": [
        {
          "output_type": "stream",
          "text": [
            "0.06634599415357374 {'hidden_layer_sizes': (10, 10), 'max_iter': 20}\n",
            "0.0655267106691397 {'hidden_layer_sizes': (15, 15), 'max_iter': 20}\n",
            "0.06540298728978233 {'hidden_layer_sizes': (20, 20), 'max_iter': 20}\n"
          ],
          "name": "stdout"
        }
      ]
    },
    {
      "cell_type": "code",
      "metadata": {
        "id": "piOYgZZnmUWw",
        "colab": {
          "base_uri": "https://localhost:8080/",
          "height": 265
        },
        "outputId": "afd0e500-6376-41ec-d279-d4ea075e0614"
      },
      "source": [
        "pd.DataFrame(grid_search.cv_results_)"
      ],
      "execution_count": null,
      "outputs": [
        {
          "output_type": "execute_result",
          "data": {
            "text/html": [
              "<div>\n",
              "<style scoped>\n",
              "    .dataframe tbody tr th:only-of-type {\n",
              "        vertical-align: middle;\n",
              "    }\n",
              "\n",
              "    .dataframe tbody tr th {\n",
              "        vertical-align: top;\n",
              "    }\n",
              "\n",
              "    .dataframe thead th {\n",
              "        text-align: right;\n",
              "    }\n",
              "</style>\n",
              "<table border=\"1\" class=\"dataframe\">\n",
              "  <thead>\n",
              "    <tr style=\"text-align: right;\">\n",
              "      <th></th>\n",
              "      <th>mean_fit_time</th>\n",
              "      <th>std_fit_time</th>\n",
              "      <th>mean_score_time</th>\n",
              "      <th>std_score_time</th>\n",
              "      <th>param_hidden_layer_sizes</th>\n",
              "      <th>param_max_iter</th>\n",
              "      <th>params</th>\n",
              "      <th>split0_test_score</th>\n",
              "      <th>split1_test_score</th>\n",
              "      <th>split2_test_score</th>\n",
              "      <th>split3_test_score</th>\n",
              "      <th>split4_test_score</th>\n",
              "      <th>mean_test_score</th>\n",
              "      <th>std_test_score</th>\n",
              "      <th>rank_test_score</th>\n",
              "      <th>split0_train_score</th>\n",
              "      <th>split1_train_score</th>\n",
              "      <th>split2_train_score</th>\n",
              "      <th>split3_train_score</th>\n",
              "      <th>split4_train_score</th>\n",
              "      <th>mean_train_score</th>\n",
              "      <th>std_train_score</th>\n",
              "    </tr>\n",
              "  </thead>\n",
              "  <tbody>\n",
              "    <tr>\n",
              "      <th>0</th>\n",
              "      <td>84.339501</td>\n",
              "      <td>2.494334</td>\n",
              "      <td>0.193708</td>\n",
              "      <td>0.025271</td>\n",
              "      <td>(10, 10)</td>\n",
              "      <td>20</td>\n",
              "      <td>{'hidden_layer_sizes': (10, 10), 'max_iter': 20}</td>\n",
              "      <td>-0.004184</td>\n",
              "      <td>-0.004479</td>\n",
              "      <td>-0.004336</td>\n",
              "      <td>-0.004466</td>\n",
              "      <td>-0.004543</td>\n",
              "      <td>-0.004402</td>\n",
              "      <td>0.000128</td>\n",
              "      <td>3</td>\n",
              "      <td>-0.004239</td>\n",
              "      <td>-0.004432</td>\n",
              "      <td>-0.004350</td>\n",
              "      <td>-0.004397</td>\n",
              "      <td>-0.004557</td>\n",
              "      <td>-0.004395</td>\n",
              "      <td>0.000104</td>\n",
              "    </tr>\n",
              "    <tr>\n",
              "      <th>1</th>\n",
              "      <td>91.812265</td>\n",
              "      <td>1.056126</td>\n",
              "      <td>0.219555</td>\n",
              "      <td>0.017496</td>\n",
              "      <td>(15, 15)</td>\n",
              "      <td>20</td>\n",
              "      <td>{'hidden_layer_sizes': (15, 15), 'max_iter': 20}</td>\n",
              "      <td>-0.004223</td>\n",
              "      <td>-0.004048</td>\n",
              "      <td>-0.004525</td>\n",
              "      <td>-0.004446</td>\n",
              "      <td>-0.004227</td>\n",
              "      <td>-0.004294</td>\n",
              "      <td>0.000171</td>\n",
              "      <td>2</td>\n",
              "      <td>-0.004261</td>\n",
              "      <td>-0.004007</td>\n",
              "      <td>-0.004510</td>\n",
              "      <td>-0.004357</td>\n",
              "      <td>-0.004202</td>\n",
              "      <td>-0.004267</td>\n",
              "      <td>0.000167</td>\n",
              "    </tr>\n",
              "    <tr>\n",
              "      <th>2</th>\n",
              "      <td>98.870738</td>\n",
              "      <td>5.409157</td>\n",
              "      <td>0.298607</td>\n",
              "      <td>0.063478</td>\n",
              "      <td>(20, 20)</td>\n",
              "      <td>20</td>\n",
              "      <td>{'hidden_layer_sizes': (20, 20), 'max_iter': 20}</td>\n",
              "      <td>-0.004144</td>\n",
              "      <td>-0.004182</td>\n",
              "      <td>-0.004293</td>\n",
              "      <td>-0.004479</td>\n",
              "      <td>-0.004289</td>\n",
              "      <td>-0.004278</td>\n",
              "      <td>0.000117</td>\n",
              "      <td>1</td>\n",
              "      <td>-0.004197</td>\n",
              "      <td>-0.004094</td>\n",
              "      <td>-0.004286</td>\n",
              "      <td>-0.004370</td>\n",
              "      <td>-0.004240</td>\n",
              "      <td>-0.004237</td>\n",
              "      <td>0.000092</td>\n",
              "    </tr>\n",
              "  </tbody>\n",
              "</table>\n",
              "</div>"
            ],
            "text/plain": [
              "   mean_fit_time  std_fit_time  ...  mean_train_score  std_train_score\n",
              "0      84.339501      2.494334  ...         -0.004395         0.000104\n",
              "1      91.812265      1.056126  ...         -0.004267         0.000167\n",
              "2      98.870738      5.409157  ...         -0.004237         0.000092\n",
              "\n",
              "[3 rows x 22 columns]"
            ]
          },
          "metadata": {
            "tags": []
          },
          "execution_count": 37
        }
      ]
    },
    {
      "cell_type": "code",
      "metadata": {
        "colab": {
          "base_uri": "https://localhost:8080/"
        },
        "id": "njawngPnriY6",
        "outputId": "e232905a-c8a0-4e30-9b71-ccfbc5aeda3c"
      },
      "source": [
        "from sklearn.model_selection import GridSearchCV\n",
        "from sklearn.model_selection import cross_val_score\n",
        "from sklearn.neural_network import MLPClassifier\n",
        "\n",
        "param_grid = [\n",
        "    {'hidden_layer_sizes': [(10, 10), (15, 15), (20, 20)], 'max_iter': [20]}\n",
        "  ]\n",
        "\n",
        "MLPC = MLPClassifier(random_state=42)\n",
        "grid_search = GridSearchCV(MLPC, param_grid, cv=5,\n",
        "                           scoring='neg_mean_squared_error',\n",
        "                           return_train_score=True)\n",
        "grid_search.fit(ddos_train, ddos_train_labels)"
      ],
      "execution_count": null,
      "outputs": [
        {
          "output_type": "execute_result",
          "data": {
            "text/plain": [
              "GridSearchCV(cv=5, error_score=nan,\n",
              "             estimator=MLPClassifier(activation='relu', alpha=0.0001,\n",
              "                                     batch_size='auto', beta_1=0.9,\n",
              "                                     beta_2=0.999, early_stopping=False,\n",
              "                                     epsilon=1e-08, hidden_layer_sizes=(100,),\n",
              "                                     learning_rate='constant',\n",
              "                                     learning_rate_init=0.001, max_fun=15000,\n",
              "                                     max_iter=200, momentum=0.9,\n",
              "                                     n_iter_no_change=10,\n",
              "                                     nesterovs_momentum=True, power_t=0.5,\n",
              "                                     random_state=42, shuffle=True,\n",
              "                                     solver='adam', tol=0.0001,\n",
              "                                     validation_fraction=0.1, verbose=False,\n",
              "                                     warm_start=False),\n",
              "             iid='deprecated', n_jobs=None,\n",
              "             param_grid=[{'hidden_layer_sizes': [(10, 10), (15, 15), (20, 20)],\n",
              "                          'max_iter': [20]}],\n",
              "             pre_dispatch='2*n_jobs', refit=True, return_train_score=True,\n",
              "             scoring='neg_mean_squared_error', verbose=0)"
            ]
          },
          "metadata": {
            "tags": []
          },
          "execution_count": 33
        }
      ]
    },
    {
      "cell_type": "code",
      "metadata": {
        "colab": {
          "base_uri": "https://localhost:8080/"
        },
        "id": "HoyQ3gzostKi",
        "outputId": "be36ca00-dbfb-4747-9e29-433b2791c6ca"
      },
      "source": [
        "grid_search.best_params_"
      ],
      "execution_count": null,
      "outputs": [
        {
          "output_type": "execute_result",
          "data": {
            "text/plain": [
              "{'hidden_layer_sizes': (20, 20), 'max_iter': 20}"
            ]
          },
          "metadata": {
            "tags": []
          },
          "execution_count": 34
        }
      ]
    },
    {
      "cell_type": "code",
      "metadata": {
        "colab": {
          "base_uri": "https://localhost:8080/"
        },
        "id": "h9aGAr1sswxJ",
        "outputId": "cb0d49a4-564b-45b1-e7a7-580eafe4fa5f"
      },
      "source": [
        "grid_search.best_estimator_"
      ],
      "execution_count": null,
      "outputs": [
        {
          "output_type": "execute_result",
          "data": {
            "text/plain": [
              "MLPClassifier(activation='relu', alpha=0.0001, batch_size='auto', beta_1=0.9,\n",
              "              beta_2=0.999, early_stopping=False, epsilon=1e-08,\n",
              "              hidden_layer_sizes=(20, 20), learning_rate='constant',\n",
              "              learning_rate_init=0.001, max_fun=15000, max_iter=20,\n",
              "              momentum=0.9, n_iter_no_change=10, nesterovs_momentum=True,\n",
              "              power_t=0.5, random_state=42, shuffle=True, solver='adam',\n",
              "              tol=0.0001, validation_fraction=0.1, verbose=False,\n",
              "              warm_start=False)"
            ]
          },
          "metadata": {
            "tags": []
          },
          "execution_count": 35
        }
      ]
    },
    {
      "cell_type": "code",
      "metadata": {
        "colab": {
          "base_uri": "https://localhost:8080/"
        },
        "id": "ffZLoXkXsy61",
        "outputId": "f3421ccd-451d-469b-ec96-a926f6d8b2d0"
      },
      "source": [
        "cvres = grid_search.cv_results_\n",
        "for mean_score, params in zip(cvres[\"mean_test_score\"], cvres[\"params\"]):\n",
        "    print(np.sqrt(-mean_score), params)"
      ],
      "execution_count": null,
      "outputs": [
        {
          "output_type": "stream",
          "text": [
            "0.06634599415357374 {'hidden_layer_sizes': (10, 10), 'max_iter': 20}\n",
            "0.0655267106691397 {'hidden_layer_sizes': (15, 15), 'max_iter': 20}\n",
            "0.06540298728978233 {'hidden_layer_sizes': (20, 20), 'max_iter': 20}\n"
          ],
          "name": "stdout"
        }
      ]
    },
    {
      "cell_type": "code",
      "metadata": {
        "colab": {
          "base_uri": "https://localhost:8080/",
          "height": 265
        },
        "id": "z4uXbm4rs1iF",
        "outputId": "9f0ac705-605c-4b5e-fb8b-0520d4397b50"
      },
      "source": [
        "pd.DataFrame(grid_search.cv_results_)"
      ],
      "execution_count": null,
      "outputs": [
        {
          "output_type": "execute_result",
          "data": {
            "text/html": [
              "<div>\n",
              "<style scoped>\n",
              "    .dataframe tbody tr th:only-of-type {\n",
              "        vertical-align: middle;\n",
              "    }\n",
              "\n",
              "    .dataframe tbody tr th {\n",
              "        vertical-align: top;\n",
              "    }\n",
              "\n",
              "    .dataframe thead th {\n",
              "        text-align: right;\n",
              "    }\n",
              "</style>\n",
              "<table border=\"1\" class=\"dataframe\">\n",
              "  <thead>\n",
              "    <tr style=\"text-align: right;\">\n",
              "      <th></th>\n",
              "      <th>mean_fit_time</th>\n",
              "      <th>std_fit_time</th>\n",
              "      <th>mean_score_time</th>\n",
              "      <th>std_score_time</th>\n",
              "      <th>param_hidden_layer_sizes</th>\n",
              "      <th>param_max_iter</th>\n",
              "      <th>params</th>\n",
              "      <th>split0_test_score</th>\n",
              "      <th>split1_test_score</th>\n",
              "      <th>split2_test_score</th>\n",
              "      <th>split3_test_score</th>\n",
              "      <th>split4_test_score</th>\n",
              "      <th>mean_test_score</th>\n",
              "      <th>std_test_score</th>\n",
              "      <th>rank_test_score</th>\n",
              "      <th>split0_train_score</th>\n",
              "      <th>split1_train_score</th>\n",
              "      <th>split2_train_score</th>\n",
              "      <th>split3_train_score</th>\n",
              "      <th>split4_train_score</th>\n",
              "      <th>mean_train_score</th>\n",
              "      <th>std_train_score</th>\n",
              "    </tr>\n",
              "  </thead>\n",
              "  <tbody>\n",
              "    <tr>\n",
              "      <th>0</th>\n",
              "      <td>85.215087</td>\n",
              "      <td>2.907607</td>\n",
              "      <td>0.195017</td>\n",
              "      <td>0.021644</td>\n",
              "      <td>(10, 10)</td>\n",
              "      <td>20</td>\n",
              "      <td>{'hidden_layer_sizes': (10, 10), 'max_iter': 20}</td>\n",
              "      <td>-0.004184</td>\n",
              "      <td>-0.004479</td>\n",
              "      <td>-0.004336</td>\n",
              "      <td>-0.004466</td>\n",
              "      <td>-0.004543</td>\n",
              "      <td>-0.004402</td>\n",
              "      <td>0.000128</td>\n",
              "      <td>3</td>\n",
              "      <td>-0.004239</td>\n",
              "      <td>-0.004432</td>\n",
              "      <td>-0.004350</td>\n",
              "      <td>-0.004397</td>\n",
              "      <td>-0.004557</td>\n",
              "      <td>-0.004395</td>\n",
              "      <td>0.000104</td>\n",
              "    </tr>\n",
              "    <tr>\n",
              "      <th>1</th>\n",
              "      <td>92.461856</td>\n",
              "      <td>1.491793</td>\n",
              "      <td>0.227581</td>\n",
              "      <td>0.018237</td>\n",
              "      <td>(15, 15)</td>\n",
              "      <td>20</td>\n",
              "      <td>{'hidden_layer_sizes': (15, 15), 'max_iter': 20}</td>\n",
              "      <td>-0.004223</td>\n",
              "      <td>-0.004048</td>\n",
              "      <td>-0.004525</td>\n",
              "      <td>-0.004446</td>\n",
              "      <td>-0.004227</td>\n",
              "      <td>-0.004294</td>\n",
              "      <td>0.000171</td>\n",
              "      <td>2</td>\n",
              "      <td>-0.004261</td>\n",
              "      <td>-0.004007</td>\n",
              "      <td>-0.004510</td>\n",
              "      <td>-0.004357</td>\n",
              "      <td>-0.004202</td>\n",
              "      <td>-0.004267</td>\n",
              "      <td>0.000167</td>\n",
              "    </tr>\n",
              "    <tr>\n",
              "      <th>2</th>\n",
              "      <td>102.141084</td>\n",
              "      <td>3.790737</td>\n",
              "      <td>0.310633</td>\n",
              "      <td>0.040774</td>\n",
              "      <td>(20, 20)</td>\n",
              "      <td>20</td>\n",
              "      <td>{'hidden_layer_sizes': (20, 20), 'max_iter': 20}</td>\n",
              "      <td>-0.004144</td>\n",
              "      <td>-0.004182</td>\n",
              "      <td>-0.004293</td>\n",
              "      <td>-0.004479</td>\n",
              "      <td>-0.004289</td>\n",
              "      <td>-0.004278</td>\n",
              "      <td>0.000117</td>\n",
              "      <td>1</td>\n",
              "      <td>-0.004197</td>\n",
              "      <td>-0.004094</td>\n",
              "      <td>-0.004286</td>\n",
              "      <td>-0.004370</td>\n",
              "      <td>-0.004240</td>\n",
              "      <td>-0.004237</td>\n",
              "      <td>0.000092</td>\n",
              "    </tr>\n",
              "  </tbody>\n",
              "</table>\n",
              "</div>"
            ],
            "text/plain": [
              "   mean_fit_time  std_fit_time  ...  mean_train_score  std_train_score\n",
              "0      85.215087      2.907607  ...         -0.004395         0.000104\n",
              "1      92.461856      1.491793  ...         -0.004267         0.000167\n",
              "2     102.141084      3.790737  ...         -0.004237         0.000092\n",
              "\n",
              "[3 rows x 22 columns]"
            ]
          },
          "metadata": {
            "tags": []
          },
          "execution_count": 37
        }
      ]
    },
    {
      "cell_type": "markdown",
      "metadata": {
        "id": "GmINOu1EcBzM"
      },
      "source": [
        "### **RamdomForest**"
      ]
    },
    {
      "cell_type": "markdown",
      "metadata": {
        "id": "PYvuXVrknr4v"
      },
      "source": [
        "# **Evaluate**"
      ]
    },
    {
      "cell_type": "code",
      "metadata": {
        "id": "yYVUndcQcjG0"
      },
      "source": [
        "from sklearn.metrics import mean_squared_error\n",
        "\n",
        "final_model = grid_search.best_estimator_\n",
        "\n",
        "final_predictions = final_model.predict(ddos_test)\n",
        "\n",
        "final_mse = mean_squared_error(ddos_test_labels, final_predictions)\n",
        "final_result = np.sqrt(final_mse)"
      ],
      "execution_count": null,
      "outputs": []
    },
    {
      "cell_type": "code",
      "metadata": {
        "id": "NZqk8Xvfn-yy",
        "colab": {
          "base_uri": "https://localhost:8080/"
        },
        "outputId": "d518f568-fc0c-485f-c576-9b08fe1ed6d7"
      },
      "source": [
        "print(final_result)"
      ],
      "execution_count": null,
      "outputs": [
        {
          "output_type": "stream",
          "text": [
            "0.06369754205967318\n"
          ],
          "name": "stdout"
        }
      ]
    },
    {
      "cell_type": "code",
      "metadata": {
        "colab": {
          "base_uri": "https://localhost:8080/"
        },
        "id": "fzoChqKUJPv9",
        "outputId": "1d1e51bd-a29d-4c1c-ea3b-655f275eb0d0"
      },
      "source": [
        "from sklearn.model_selection import GridSearchCV\n",
        "from sklearn.model_selection import cross_val_score\n",
        "from sklearn.neural_network import MLPClassifier\n",
        "\n",
        "param_grid = [\n",
        "    {'hidden_layer_sizes': [(10, 10), (15, 15), (20, 20)], 'max_iter': [20]}\n",
        "  ]\n",
        "\n",
        "MLPC = MLPClassifier(random_state=42)\n",
        "grid_search = GridSearchCV(MLPC, param_grid, cv=5,\n",
        "                           scoring='accuracy',\n",
        "                           return_train_score=True)\n",
        "grid_search.fit(ddos_train, ddos_train_labels)"
      ],
      "execution_count": null,
      "outputs": [
        {
          "output_type": "execute_result",
          "data": {
            "text/plain": [
              "GridSearchCV(cv=5, error_score=nan,\n",
              "             estimator=MLPClassifier(activation='relu', alpha=0.0001,\n",
              "                                     batch_size='auto', beta_1=0.9,\n",
              "                                     beta_2=0.999, early_stopping=False,\n",
              "                                     epsilon=1e-08, hidden_layer_sizes=(100,),\n",
              "                                     learning_rate='constant',\n",
              "                                     learning_rate_init=0.001, max_fun=15000,\n",
              "                                     max_iter=200, momentum=0.9,\n",
              "                                     n_iter_no_change=10,\n",
              "                                     nesterovs_momentum=True, power_t=0.5,\n",
              "                                     random_state=42, shuffle=True,\n",
              "                                     solver='adam', tol=0.0001,\n",
              "                                     validation_fraction=0.1, verbose=False,\n",
              "                                     warm_start=False),\n",
              "             iid='deprecated', n_jobs=None,\n",
              "             param_grid=[{'hidden_layer_sizes': [(10, 10), (15, 15), (20, 20)],\n",
              "                          'max_iter': [20]}],\n",
              "             pre_dispatch='2*n_jobs', refit=True, return_train_score=True,\n",
              "             scoring='accuracy', verbose=0)"
            ]
          },
          "metadata": {
            "tags": []
          },
          "execution_count": 42
        }
      ]
    },
    {
      "cell_type": "code",
      "metadata": {
        "colab": {
          "base_uri": "https://localhost:8080/"
        },
        "id": "1t8q-KEpJZ8O",
        "outputId": "9f8843ab-9bac-43b3-cfa7-3eb8fa1160db"
      },
      "source": [
        "grid_search.best_params_"
      ],
      "execution_count": null,
      "outputs": [
        {
          "output_type": "execute_result",
          "data": {
            "text/plain": [
              "{'hidden_layer_sizes': (20, 20), 'max_iter': 20}"
            ]
          },
          "metadata": {
            "tags": []
          },
          "execution_count": 44
        }
      ]
    },
    {
      "cell_type": "code",
      "metadata": {
        "colab": {
          "base_uri": "https://localhost:8080/"
        },
        "id": "11dpQPL2JdDl",
        "outputId": "913927ce-f44f-4b40-8b8e-8a84cd70c7db"
      },
      "source": [
        "grid_search.best_estimator_"
      ],
      "execution_count": null,
      "outputs": [
        {
          "output_type": "execute_result",
          "data": {
            "text/plain": [
              "MLPClassifier(activation='relu', alpha=0.0001, batch_size='auto', beta_1=0.9,\n",
              "              beta_2=0.999, early_stopping=False, epsilon=1e-08,\n",
              "              hidden_layer_sizes=(20, 20), learning_rate='constant',\n",
              "              learning_rate_init=0.001, max_fun=15000, max_iter=20,\n",
              "              momentum=0.9, n_iter_no_change=10, nesterovs_momentum=True,\n",
              "              power_t=0.5, random_state=42, shuffle=True, solver='adam',\n",
              "              tol=0.0001, validation_fraction=0.1, verbose=False,\n",
              "              warm_start=False)"
            ]
          },
          "metadata": {
            "tags": []
          },
          "execution_count": 49
        }
      ]
    },
    {
      "cell_type": "code",
      "metadata": {
        "colab": {
          "base_uri": "https://localhost:8080/",
          "height": 265
        },
        "id": "L3dZpVSFQp9_",
        "outputId": "1765ed53-8606-44ae-a32c-a08d2b052197"
      },
      "source": [
        "pd.DataFrame(grid_search.cv_results_)"
      ],
      "execution_count": null,
      "outputs": [
        {
          "output_type": "execute_result",
          "data": {
            "text/html": [
              "<div>\n",
              "<style scoped>\n",
              "    .dataframe tbody tr th:only-of-type {\n",
              "        vertical-align: middle;\n",
              "    }\n",
              "\n",
              "    .dataframe tbody tr th {\n",
              "        vertical-align: top;\n",
              "    }\n",
              "\n",
              "    .dataframe thead th {\n",
              "        text-align: right;\n",
              "    }\n",
              "</style>\n",
              "<table border=\"1\" class=\"dataframe\">\n",
              "  <thead>\n",
              "    <tr style=\"text-align: right;\">\n",
              "      <th></th>\n",
              "      <th>mean_fit_time</th>\n",
              "      <th>std_fit_time</th>\n",
              "      <th>mean_score_time</th>\n",
              "      <th>std_score_time</th>\n",
              "      <th>param_hidden_layer_sizes</th>\n",
              "      <th>param_max_iter</th>\n",
              "      <th>params</th>\n",
              "      <th>split0_test_score</th>\n",
              "      <th>split1_test_score</th>\n",
              "      <th>split2_test_score</th>\n",
              "      <th>split3_test_score</th>\n",
              "      <th>split4_test_score</th>\n",
              "      <th>mean_test_score</th>\n",
              "      <th>std_test_score</th>\n",
              "      <th>rank_test_score</th>\n",
              "      <th>split0_train_score</th>\n",
              "      <th>split1_train_score</th>\n",
              "      <th>split2_train_score</th>\n",
              "      <th>split3_train_score</th>\n",
              "      <th>split4_train_score</th>\n",
              "      <th>mean_train_score</th>\n",
              "      <th>std_train_score</th>\n",
              "    </tr>\n",
              "  </thead>\n",
              "  <tbody>\n",
              "    <tr>\n",
              "      <th>0</th>\n",
              "      <td>87.753286</td>\n",
              "      <td>2.561415</td>\n",
              "      <td>0.306573</td>\n",
              "      <td>0.022467</td>\n",
              "      <td>(10, 10)</td>\n",
              "      <td>20</td>\n",
              "      <td>{'hidden_layer_sizes': (10, 10), 'max_iter': 20}</td>\n",
              "      <td>0.991599</td>\n",
              "      <td>0.990912</td>\n",
              "      <td>0.991255</td>\n",
              "      <td>0.990965</td>\n",
              "      <td>0.990886</td>\n",
              "      <td>0.991123</td>\n",
              "      <td>0.000272</td>\n",
              "      <td>3</td>\n",
              "      <td>0.991491</td>\n",
              "      <td>0.991005</td>\n",
              "      <td>0.991253</td>\n",
              "      <td>0.991101</td>\n",
              "      <td>0.990854</td>\n",
              "      <td>0.991141</td>\n",
              "      <td>0.000218</td>\n",
              "    </tr>\n",
              "    <tr>\n",
              "      <th>1</th>\n",
              "      <td>93.954698</td>\n",
              "      <td>1.021660</td>\n",
              "      <td>0.318496</td>\n",
              "      <td>0.008517</td>\n",
              "      <td>(15, 15)</td>\n",
              "      <td>20</td>\n",
              "      <td>{'hidden_layer_sizes': (15, 15), 'max_iter': 20}</td>\n",
              "      <td>0.991526</td>\n",
              "      <td>0.991619</td>\n",
              "      <td>0.990855</td>\n",
              "      <td>0.991030</td>\n",
              "      <td>0.991467</td>\n",
              "      <td>0.991299</td>\n",
              "      <td>0.000300</td>\n",
              "      <td>2</td>\n",
              "      <td>0.991455</td>\n",
              "      <td>0.991665</td>\n",
              "      <td>0.990884</td>\n",
              "      <td>0.991203</td>\n",
              "      <td>0.991530</td>\n",
              "      <td>0.991348</td>\n",
              "      <td>0.000276</td>\n",
              "    </tr>\n",
              "    <tr>\n",
              "      <th>2</th>\n",
              "      <td>99.134680</td>\n",
              "      <td>3.084387</td>\n",
              "      <td>0.383467</td>\n",
              "      <td>0.045059</td>\n",
              "      <td>(20, 20)</td>\n",
              "      <td>20</td>\n",
              "      <td>{'hidden_layer_sizes': (20, 20), 'max_iter': 20}</td>\n",
              "      <td>0.991664</td>\n",
              "      <td>0.991345</td>\n",
              "      <td>0.991348</td>\n",
              "      <td>0.990810</td>\n",
              "      <td>0.991354</td>\n",
              "      <td>0.991304</td>\n",
              "      <td>0.000275</td>\n",
              "      <td>1</td>\n",
              "      <td>0.991557</td>\n",
              "      <td>0.991514</td>\n",
              "      <td>0.991367</td>\n",
              "      <td>0.991026</td>\n",
              "      <td>0.991439</td>\n",
              "      <td>0.991381</td>\n",
              "      <td>0.000189</td>\n",
              "    </tr>\n",
              "  </tbody>\n",
              "</table>\n",
              "</div>"
            ],
            "text/plain": [
              "   mean_fit_time  std_fit_time  ...  mean_train_score  std_train_score\n",
              "0      87.753286      2.561415  ...          0.991141         0.000218\n",
              "1      93.954698      1.021660  ...          0.991348         0.000276\n",
              "2      99.134680      3.084387  ...          0.991381         0.000189\n",
              "\n",
              "[3 rows x 22 columns]"
            ]
          },
          "metadata": {
            "tags": []
          },
          "execution_count": 56
        }
      ]
    },
    {
      "cell_type": "code",
      "metadata": {
        "colab": {
          "base_uri": "https://localhost:8080/"
        },
        "id": "sJP0OGnyJiFg",
        "outputId": "f3d5b056-f95d-49ac-96f3-0300519e4911"
      },
      "source": [
        "cvres = grid_search.cv_results_\n",
        "for mean_score, params in zip(cvres[\"mean_test_score\"], cvres[\"params\"]):\n",
        "    print((mean_score), params)"
      ],
      "execution_count": null,
      "outputs": [
        {
          "output_type": "stream",
          "text": [
            "0.9911234517245534 {'hidden_layer_sizes': (10, 10), 'max_iter': 20}\n",
            "0.9912992474977728 {'hidden_layer_sizes': (15, 15), 'max_iter': 20}\n",
            "0.9913043184567651 {'hidden_layer_sizes': (20, 20), 'max_iter': 20}\n"
          ],
          "name": "stdout"
        }
      ]
    },
    {
      "cell_type": "code",
      "metadata": {
        "colab": {
          "base_uri": "https://localhost:8080/"
        },
        "id": "xheF2gTRPwCv",
        "outputId": "6b943002-1163-4fc8-d692-b669a56d2314"
      },
      "source": [
        "from sklearn.metrics import mean_squared_error\n",
        "\n",
        "final_model = grid_search.best_estimator_\n",
        "\n",
        "final_predictions = final_model.predict(ddos_test)\n",
        "print(final_predictions)\n",
        "#final_mse = mean_squared_error(ddos_test_labels, final_predictions)\n",
        "#final_result = np.mean(final_mse)"
      ],
      "execution_count": null,
      "outputs": [
        {
          "output_type": "stream",
          "text": [
            "[[0 1 0 0]\n",
            " [0 1 0 0]\n",
            " [0 0 1 0]\n",
            " ...\n",
            " [0 0 1 0]\n",
            " [0 0 1 0]\n",
            " [0 1 0 0]]\n"
          ],
          "name": "stdout"
        }
      ]
    },
    {
      "cell_type": "code",
      "metadata": {
        "colab": {
          "base_uri": "https://localhost:8080/"
        },
        "id": "HJaSphfLP5cc",
        "outputId": "539c1ae4-431d-4477-a94f-0792cf46ed64"
      },
      "source": [
        "print(final_result)"
      ],
      "execution_count": null,
      "outputs": [
        {
          "output_type": "stream",
          "text": [
            "0.004057376864443834\n"
          ],
          "name": "stdout"
        }
      ]
    }
  ]
}